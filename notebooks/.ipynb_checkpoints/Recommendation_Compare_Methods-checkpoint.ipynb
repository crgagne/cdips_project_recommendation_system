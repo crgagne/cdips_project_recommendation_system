{
 "cells": [
  {
   "cell_type": "code",
   "execution_count": 1,
   "metadata": {
    "collapsed": true,
    "slideshow": {
     "slide_type": "skip"
    }
   },
   "outputs": [],
   "source": [
    "import pandas as pd\n",
    "import numpy as np\n",
    "import matplotlib.pyplot as plt\n",
    "import seaborn as sns\n",
    "import pickle\n",
    "import scipy as sp\n",
    "sns.set_style('white')\n",
    "%matplotlib inline"
   ]
  },
  {
   "cell_type": "code",
   "execution_count": 2,
   "metadata": {},
   "outputs": [
    {
     "data": {
      "text/plain": [
       "'/Users/chris/Desktop/CDIPS_Recommender/notebooks'"
      ]
     },
     "execution_count": 2,
     "metadata": {},
     "output_type": "execute_result"
    }
   ],
   "source": [
    "import sys\n",
    "import os\n",
    "sys.path.append('../')\n",
    "os.getcwd()"
   ]
  },
  {
   "cell_type": "markdown",
   "metadata": {
    "slideshow": {
     "slide_type": "slide"
    }
   },
   "source": [
    "# Recommendation Comparison\n",
    "\n",
    "- A more general framework for comparing different recommendation techniques\n",
    "\n",
    "### Evaluation DataSet\n",
    "\n",
    "See notes in the creating_dataset_for_evaluation.ipynb\n",
    "\n",
    "From full dataset\n",
    "- removed rows with no nn features (for view or for buy)\n",
    "- remove the items that have been viewed 20minutes before buying. \n",
    "- sub-sampled a set of 1000 users\n"
   ]
  },
  {
   "cell_type": "code",
   "execution_count": 3,
   "metadata": {
    "slideshow": {
     "slide_type": "fragment"
    }
   },
   "outputs": [
    {
     "name": "stdout",
     "output_type": "stream",
     "text": [
      "40141\n",
      "961\n"
     ]
    },
    {
     "data": {
      "text/html": [
       "<div>\n",
       "<style>\n",
       "    .dataframe thead tr:only-child th {\n",
       "        text-align: right;\n",
       "    }\n",
       "\n",
       "    .dataframe thead th {\n",
       "        text-align: left;\n",
       "    }\n",
       "\n",
       "    .dataframe tbody tr th {\n",
       "        vertical-align: top;\n",
       "    }\n",
       "</style>\n",
       "<table border=\"1\" class=\"dataframe\">\n",
       "  <thead>\n",
       "    <tr style=\"text-align: right;\">\n",
       "      <th></th>\n",
       "      <th>user_id</th>\n",
       "      <th>buy_spu</th>\n",
       "      <th>buy_sn</th>\n",
       "      <th>buy_ct3</th>\n",
       "      <th>view_spu</th>\n",
       "      <th>view_sn</th>\n",
       "      <th>view_ct3</th>\n",
       "      <th>time_interval</th>\n",
       "      <th>view_cnt</th>\n",
       "      <th>view_seconds</th>\n",
       "      <th>index</th>\n",
       "      <th>spu_id</th>\n",
       "      <th>view_spu_count</th>\n",
       "      <th>drop</th>\n",
       "    </tr>\n",
       "  </thead>\n",
       "  <tbody>\n",
       "    <tr>\n",
       "      <th>1226</th>\n",
       "      <td>3787002243</td>\n",
       "      <td>14994645517246498</td>\n",
       "      <td>10006541</td>\n",
       "      <td>334</td>\n",
       "      <td>221597279072104476</td>\n",
       "      <td>10005949</td>\n",
       "      <td>334</td>\n",
       "      <td>389705</td>\n",
       "      <td>4</td>\n",
       "      <td>98</td>\n",
       "      <td>87616.0</td>\n",
       "      <td>2.215973e+17</td>\n",
       "      <td>11</td>\n",
       "      <td>0</td>\n",
       "    </tr>\n",
       "    <tr>\n",
       "      <th>1227</th>\n",
       "      <td>3787002243</td>\n",
       "      <td>14994645517246498</td>\n",
       "      <td>10006541</td>\n",
       "      <td>334</td>\n",
       "      <td>29349802448457744</td>\n",
       "      <td>10004542</td>\n",
       "      <td>334</td>\n",
       "      <td>7342</td>\n",
       "      <td>1</td>\n",
       "      <td>10</td>\n",
       "      <td>73880.0</td>\n",
       "      <td>2.934980e+16</td>\n",
       "      <td>11</td>\n",
       "      <td>0</td>\n",
       "    </tr>\n",
       "    <tr>\n",
       "      <th>2261</th>\n",
       "      <td>132681117</td>\n",
       "      <td>6831894477217820</td>\n",
       "      <td>10001155</td>\n",
       "      <td>334</td>\n",
       "      <td>27661017974767638</td>\n",
       "      <td>10004048</td>\n",
       "      <td>334</td>\n",
       "      <td>32451</td>\n",
       "      <td>1</td>\n",
       "      <td>6</td>\n",
       "      <td>21676.0</td>\n",
       "      <td>2.766102e+16</td>\n",
       "      <td>63</td>\n",
       "      <td>0</td>\n",
       "    </tr>\n",
       "    <tr>\n",
       "      <th>2262</th>\n",
       "      <td>132681117</td>\n",
       "      <td>6831894477217820</td>\n",
       "      <td>10001155</td>\n",
       "      <td>334</td>\n",
       "      <td>288869796837830741</td>\n",
       "      <td>10000351</td>\n",
       "      <td>334</td>\n",
       "      <td>33318</td>\n",
       "      <td>2</td>\n",
       "      <td>30</td>\n",
       "      <td>6475.0</td>\n",
       "      <td>2.888698e+17</td>\n",
       "      <td>63</td>\n",
       "      <td>0</td>\n",
       "    </tr>\n",
       "    <tr>\n",
       "      <th>2263</th>\n",
       "      <td>132681117</td>\n",
       "      <td>6831894477217820</td>\n",
       "      <td>10001155</td>\n",
       "      <td>334</td>\n",
       "      <td>301817675098247170</td>\n",
       "      <td>10020640</td>\n",
       "      <td>334</td>\n",
       "      <td>428149</td>\n",
       "      <td>1</td>\n",
       "      <td>9</td>\n",
       "      <td>25612.0</td>\n",
       "      <td>3.018177e+17</td>\n",
       "      <td>63</td>\n",
       "      <td>0</td>\n",
       "    </tr>\n",
       "  </tbody>\n",
       "</table>\n",
       "</div>"
      ],
      "text/plain": [
       "         user_id            buy_spu    buy_sn  buy_ct3            view_spu  \\\n",
       "1226  3787002243  14994645517246498  10006541      334  221597279072104476   \n",
       "1227  3787002243  14994645517246498  10006541      334   29349802448457744   \n",
       "2261   132681117   6831894477217820  10001155      334   27661017974767638   \n",
       "2262   132681117   6831894477217820  10001155      334  288869796837830741   \n",
       "2263   132681117   6831894477217820  10001155      334  301817675098247170   \n",
       "\n",
       "       view_sn  view_ct3  time_interval  view_cnt  view_seconds    index  \\\n",
       "1226  10005949       334         389705         4            98  87616.0   \n",
       "1227  10004542       334           7342         1            10  73880.0   \n",
       "2261  10004048       334          32451         1             6  21676.0   \n",
       "2262  10000351       334          33318         2            30   6475.0   \n",
       "2263  10020640       334         428149         1             9  25612.0   \n",
       "\n",
       "            spu_id  view_spu_count  drop  \n",
       "1226  2.215973e+17              11     0  \n",
       "1227  2.934980e+16              11     0  \n",
       "2261  2.766102e+16              63     0  \n",
       "2262  2.888698e+17              63     0  \n",
       "2263  3.018177e+17              63     0  "
      ]
     },
     "execution_count": 3,
     "metadata": {},
     "output_type": "execute_result"
    }
   ],
   "source": [
    "# load smaller user behavior dataset\n",
    "user_profile = pd.read_pickle('../data_user_view_buy/user_profile_items_nonnull_features_20_mins_5_views_v2_sample1000.pkl')\n",
    "user_sample = user_profile.user_id.unique()\n",
    "print(len(user_profile))\n",
    "print(len(user_sample))\n",
    "user_profile.head()\n"
   ]
  },
  {
   "cell_type": "code",
   "execution_count": 4,
   "metadata": {},
   "outputs": [
    {
     "data": {
      "text/html": [
       "<div>\n",
       "<style>\n",
       "    .dataframe thead tr:only-child th {\n",
       "        text-align: right;\n",
       "    }\n",
       "\n",
       "    .dataframe thead th {\n",
       "        text-align: left;\n",
       "    }\n",
       "\n",
       "    .dataframe tbody tr th {\n",
       "        vertical-align: top;\n",
       "    }\n",
       "</style>\n",
       "<table border=\"1\" class=\"dataframe\">\n",
       "  <thead>\n",
       "    <tr style=\"text-align: right;\">\n",
       "      <th></th>\n",
       "      <th>user_id</th>\n",
       "      <th>buy_spu</th>\n",
       "      <th>buy_sn</th>\n",
       "      <th>buy_ct3</th>\n",
       "      <th>view_spu</th>\n",
       "      <th>view_sn</th>\n",
       "      <th>view_ct3</th>\n",
       "      <th>time_interval</th>\n",
       "      <th>view_cnt</th>\n",
       "      <th>view_seconds</th>\n",
       "      <th>index</th>\n",
       "      <th>spu_id</th>\n",
       "      <th>view_spu_count</th>\n",
       "      <th>drop</th>\n",
       "    </tr>\n",
       "  </thead>\n",
       "  <tbody>\n",
       "    <tr>\n",
       "      <th>1226</th>\n",
       "      <td>3787002243</td>\n",
       "      <td>14994645517246498</td>\n",
       "      <td>10006541</td>\n",
       "      <td>334</td>\n",
       "      <td>221597279072104476</td>\n",
       "      <td>10005949</td>\n",
       "      <td>334</td>\n",
       "      <td>389705</td>\n",
       "      <td>4</td>\n",
       "      <td>98</td>\n",
       "      <td>87616.0</td>\n",
       "      <td>2.215973e+17</td>\n",
       "      <td>11</td>\n",
       "      <td>0</td>\n",
       "    </tr>\n",
       "    <tr>\n",
       "      <th>1227</th>\n",
       "      <td>3787002243</td>\n",
       "      <td>14994645517246498</td>\n",
       "      <td>10006541</td>\n",
       "      <td>334</td>\n",
       "      <td>29349802448457744</td>\n",
       "      <td>10004542</td>\n",
       "      <td>334</td>\n",
       "      <td>7342</td>\n",
       "      <td>1</td>\n",
       "      <td>10</td>\n",
       "      <td>73880.0</td>\n",
       "      <td>2.934980e+16</td>\n",
       "      <td>11</td>\n",
       "      <td>0</td>\n",
       "    </tr>\n",
       "    <tr>\n",
       "      <th>2261</th>\n",
       "      <td>132681117</td>\n",
       "      <td>6831894477217820</td>\n",
       "      <td>10001155</td>\n",
       "      <td>334</td>\n",
       "      <td>27661017974767638</td>\n",
       "      <td>10004048</td>\n",
       "      <td>334</td>\n",
       "      <td>32451</td>\n",
       "      <td>1</td>\n",
       "      <td>6</td>\n",
       "      <td>21676.0</td>\n",
       "      <td>2.766102e+16</td>\n",
       "      <td>63</td>\n",
       "      <td>0</td>\n",
       "    </tr>\n",
       "    <tr>\n",
       "      <th>2262</th>\n",
       "      <td>132681117</td>\n",
       "      <td>6831894477217820</td>\n",
       "      <td>10001155</td>\n",
       "      <td>334</td>\n",
       "      <td>288869796837830741</td>\n",
       "      <td>10000351</td>\n",
       "      <td>334</td>\n",
       "      <td>33318</td>\n",
       "      <td>2</td>\n",
       "      <td>30</td>\n",
       "      <td>6475.0</td>\n",
       "      <td>2.888698e+17</td>\n",
       "      <td>63</td>\n",
       "      <td>0</td>\n",
       "    </tr>\n",
       "    <tr>\n",
       "      <th>2263</th>\n",
       "      <td>132681117</td>\n",
       "      <td>6831894477217820</td>\n",
       "      <td>10001155</td>\n",
       "      <td>334</td>\n",
       "      <td>301817675098247170</td>\n",
       "      <td>10020640</td>\n",
       "      <td>334</td>\n",
       "      <td>428149</td>\n",
       "      <td>1</td>\n",
       "      <td>9</td>\n",
       "      <td>25612.0</td>\n",
       "      <td>3.018177e+17</td>\n",
       "      <td>63</td>\n",
       "      <td>0</td>\n",
       "    </tr>\n",
       "  </tbody>\n",
       "</table>\n",
       "</div>"
      ],
      "text/plain": [
       "         user_id            buy_spu    buy_sn  buy_ct3            view_spu  \\\n",
       "1226  3787002243  14994645517246498  10006541      334  221597279072104476   \n",
       "1227  3787002243  14994645517246498  10006541      334   29349802448457744   \n",
       "2261   132681117   6831894477217820  10001155      334   27661017974767638   \n",
       "2262   132681117   6831894477217820  10001155      334  288869796837830741   \n",
       "2263   132681117   6831894477217820  10001155      334  301817675098247170   \n",
       "\n",
       "       view_sn  view_ct3  time_interval  view_cnt  view_seconds    index  \\\n",
       "1226  10005949       334         389705         4            98  87616.0   \n",
       "1227  10004542       334           7342         1            10  73880.0   \n",
       "2261  10004048       334          32451         1             6  21676.0   \n",
       "2262  10000351       334          33318         2            30   6475.0   \n",
       "2263  10020640       334         428149         1             9  25612.0   \n",
       "\n",
       "            spu_id  view_spu_count  drop  \n",
       "1226  2.215973e+17              11     0  \n",
       "1227  2.934980e+16              11     0  \n",
       "2261  2.766102e+16              63     0  \n",
       "2262  2.888698e+17              63     0  \n",
       "2263  3.018177e+17              63     0  "
      ]
     },
     "execution_count": 4,
     "metadata": {},
     "output_type": "execute_result"
    }
   ],
   "source": [
    "user_profile.head()"
   ]
  },
  {
   "cell_type": "code",
   "execution_count": 5,
   "metadata": {
    "collapsed": true
   },
   "outputs": [],
   "source": [
    "# requires nn features \n",
    "spu_fea = pd.read_pickle(\"../data_nn_features/spu_fea_sample1000.pkl\")"
   ]
  },
  {
   "cell_type": "code",
   "execution_count": 6,
   "metadata": {},
   "outputs": [
    {
     "data": {
      "text/html": [
       "<div>\n",
       "<style>\n",
       "    .dataframe thead tr:only-child th {\n",
       "        text-align: right;\n",
       "    }\n",
       "\n",
       "    .dataframe thead th {\n",
       "        text-align: left;\n",
       "    }\n",
       "\n",
       "    .dataframe tbody tr th {\n",
       "        vertical-align: top;\n",
       "    }\n",
       "</style>\n",
       "<table border=\"1\" class=\"dataframe\">\n",
       "  <thead>\n",
       "    <tr style=\"text-align: right;\">\n",
       "      <th></th>\n",
       "      <th>index</th>\n",
       "      <th>spu_id</th>\n",
       "      <th>features</th>\n",
       "      <th>view_spu</th>\n",
       "    </tr>\n",
       "  </thead>\n",
       "  <tbody>\n",
       "    <tr>\n",
       "      <th>2</th>\n",
       "      <td>4</td>\n",
       "      <td>100281553839460375</td>\n",
       "      <td>[0.661, 1.84, 0.028, 1.128, 0.172, 1.097, 1.45...</td>\n",
       "      <td>100281553839460375</td>\n",
       "    </tr>\n",
       "    <tr>\n",
       "      <th>10</th>\n",
       "      <td>17</td>\n",
       "      <td>102533309850574975</td>\n",
       "      <td>[0.351, 0.066, 0.044, 0.648, 0.011, 0.0, 0.207...</td>\n",
       "      <td>102533309850574975</td>\n",
       "    </tr>\n",
       "    <tr>\n",
       "      <th>11</th>\n",
       "      <td>18</td>\n",
       "      <td>102533356906119172</td>\n",
       "      <td>[0.474, 0.903, 0.03, 0.495, 0.01, 0.003, 0.2, ...</td>\n",
       "      <td>102533356906119172</td>\n",
       "    </tr>\n",
       "    <tr>\n",
       "      <th>16</th>\n",
       "      <td>26</td>\n",
       "      <td>1029993181497487363</td>\n",
       "      <td>[0.029, 0.347, 0.175, 0.789, 0.09, 0.0, 0.181,...</td>\n",
       "      <td>1029993181497487363</td>\n",
       "    </tr>\n",
       "    <tr>\n",
       "      <th>17</th>\n",
       "      <td>27</td>\n",
       "      <td>103096330169212941</td>\n",
       "      <td>[1.117, 0.826, 0.01, 0.058, 0.251, 0.783, 0.12...</td>\n",
       "      <td>103096330169212941</td>\n",
       "    </tr>\n",
       "  </tbody>\n",
       "</table>\n",
       "</div>"
      ],
      "text/plain": [
       "    index               spu_id  \\\n",
       "2       4   100281553839460375   \n",
       "10     17   102533309850574975   \n",
       "11     18   102533356906119172   \n",
       "16     26  1029993181497487363   \n",
       "17     27   103096330169212941   \n",
       "\n",
       "                                             features             view_spu  \n",
       "2   [0.661, 1.84, 0.028, 1.128, 0.172, 1.097, 1.45...   100281553839460375  \n",
       "10  [0.351, 0.066, 0.044, 0.648, 0.011, 0.0, 0.207...   102533309850574975  \n",
       "11  [0.474, 0.903, 0.03, 0.495, 0.01, 0.003, 0.2, ...   102533356906119172  \n",
       "16  [0.029, 0.347, 0.175, 0.789, 0.09, 0.0, 0.181,...  1029993181497487363  \n",
       "17  [1.117, 0.826, 0.01, 0.058, 0.251, 0.783, 0.12...   103096330169212941  "
      ]
     },
     "execution_count": 6,
     "metadata": {},
     "output_type": "execute_result"
    }
   ],
   "source": [
    "spu_fea.head()"
   ]
  },
  {
   "cell_type": "code",
   "execution_count": 7,
   "metadata": {},
   "outputs": [
    {
     "name": "stdout",
     "output_type": "stream",
     "text": [
      "17988\n",
      "17987\n"
     ]
    }
   ],
   "source": [
    "# make sure all items have features ?? One missing\n",
    "print(len(set(list(user_profile.buy_spu.unique())+list(user_profile.view_spu.unique()))))\n",
    "print(len(spu_fea.spu_id.unique()))"
   ]
  },
  {
   "cell_type": "code",
   "execution_count": 8,
   "metadata": {},
   "outputs": [
    {
     "data": {
      "text/plain": [
       "{289151275262005248}"
      ]
     },
     "execution_count": 8,
     "metadata": {},
     "output_type": "execute_result"
    }
   ],
   "source": [
    "set(list(user_profile.buy_spu.unique())+list(user_profile.view_spu.unique()))-set(spu_fea.spu_id.unique())"
   ]
  },
  {
   "cell_type": "code",
   "execution_count": 9,
   "metadata": {
    "collapsed": true
   },
   "outputs": [],
   "source": [
    "#user_profile[user_profile['buy_spu']==289151275262005248]"
   ]
  },
  {
   "cell_type": "code",
   "execution_count": 10,
   "metadata": {},
   "outputs": [
    {
     "name": "stdout",
     "output_type": "stream",
     "text": [
      "40141\n",
      "40110\n"
     ]
    }
   ],
   "source": [
    "print(len(user_profile))\n",
    "user_profile = user_profile[~user_profile['buy_spu'].isin([289151275262005248])]\n",
    "print(len(user_profile))\n"
   ]
  },
  {
   "cell_type": "markdown",
   "metadata": {},
   "source": [
    "### Precalculate things for recommendations"
   ]
  },
  {
   "cell_type": "code",
   "execution_count": 11,
   "metadata": {
    "collapsed": true
   },
   "outputs": [],
   "source": [
    "pca = pickle.load(open('../data_nn_features/pca_all_items_sample1000.pkl','rb'))"
   ]
  },
  {
   "cell_type": "code",
   "execution_count": 12,
   "metadata": {},
   "outputs": [
    {
     "data": {
      "text/plain": [
       "40110"
      ]
     },
     "execution_count": 12,
     "metadata": {},
     "output_type": "execute_result"
    }
   ],
   "source": [
    "user_profile_without_buy = user_profile.query('buy_spu != view_spu')\n",
    "len(user_profile_without_buy)"
   ]
  },
  {
   "cell_type": "code",
   "execution_count": 13,
   "metadata": {
    "collapsed": true
   },
   "outputs": [],
   "source": [
    "piv = user_profile_without_buy.pivot_table(index=['user_id'], columns=['view_spu'], values='view_cnt') # user x item matrix, with view counts in the entries\n",
    "piv_norm = piv.apply(lambda x: (x/np.mean(x)), axis=1) # normalize by number of views total per user. \n",
    "piv_norm.fillna(0, inplace=True)\n",
    "piv_norm = piv_norm.T\n",
    "piv_norm = piv_norm.loc[:, (piv_norm != 0).any(axis=0)]\n",
    "piv_sparse = sp.sparse.csr_matrix(piv_norm.values)"
   ]
  },
  {
   "cell_type": "code",
   "execution_count": 14,
   "metadata": {},
   "outputs": [
    {
     "data": {
      "text/html": [
       "<div>\n",
       "<style>\n",
       "    .dataframe thead tr:only-child th {\n",
       "        text-align: right;\n",
       "    }\n",
       "\n",
       "    .dataframe thead th {\n",
       "        text-align: left;\n",
       "    }\n",
       "\n",
       "    .dataframe tbody tr th {\n",
       "        vertical-align: top;\n",
       "    }\n",
       "</style>\n",
       "<table border=\"1\" class=\"dataframe\">\n",
       "  <thead>\n",
       "    <tr style=\"text-align: right;\">\n",
       "      <th>user_id</th>\n",
       "      <th>1295366</th>\n",
       "      <th>8482886</th>\n",
       "      <th>13101732</th>\n",
       "      <th>14125503</th>\n",
       "      <th>16099098</th>\n",
       "      <th>20566407</th>\n",
       "      <th>22352156</th>\n",
       "      <th>24507341</th>\n",
       "      <th>27740099</th>\n",
       "      <th>30252115</th>\n",
       "      <th>...</th>\n",
       "      <th>4264733572</th>\n",
       "      <th>4270148207</th>\n",
       "      <th>4275983155</th>\n",
       "      <th>4276675302</th>\n",
       "      <th>4277692742</th>\n",
       "      <th>4283827450</th>\n",
       "      <th>4286717580</th>\n",
       "      <th>4290093151</th>\n",
       "      <th>4291306354</th>\n",
       "      <th>4293073173</th>\n",
       "    </tr>\n",
       "    <tr>\n",
       "      <th>view_spu</th>\n",
       "      <th></th>\n",
       "      <th></th>\n",
       "      <th></th>\n",
       "      <th></th>\n",
       "      <th></th>\n",
       "      <th></th>\n",
       "      <th></th>\n",
       "      <th></th>\n",
       "      <th></th>\n",
       "      <th></th>\n",
       "      <th></th>\n",
       "      <th></th>\n",
       "      <th></th>\n",
       "      <th></th>\n",
       "      <th></th>\n",
       "      <th></th>\n",
       "      <th></th>\n",
       "      <th></th>\n",
       "      <th></th>\n",
       "      <th></th>\n",
       "      <th></th>\n",
       "    </tr>\n",
       "  </thead>\n",
       "  <tbody>\n",
       "    <tr>\n",
       "      <th>357872333107204</th>\n",
       "      <td>0.000000</td>\n",
       "      <td>0.0</td>\n",
       "      <td>0.0</td>\n",
       "      <td>0.0</td>\n",
       "      <td>0.0</td>\n",
       "      <td>0.0</td>\n",
       "      <td>0.0</td>\n",
       "      <td>0.0</td>\n",
       "      <td>0.0</td>\n",
       "      <td>0.0</td>\n",
       "      <td>...</td>\n",
       "      <td>0.0</td>\n",
       "      <td>0.0</td>\n",
       "      <td>0.0</td>\n",
       "      <td>0.0</td>\n",
       "      <td>0.0</td>\n",
       "      <td>0.0</td>\n",
       "      <td>0.0</td>\n",
       "      <td>0.0</td>\n",
       "      <td>0.0</td>\n",
       "      <td>0.0</td>\n",
       "    </tr>\n",
       "    <tr>\n",
       "      <th>357875526680651</th>\n",
       "      <td>0.000000</td>\n",
       "      <td>0.0</td>\n",
       "      <td>0.0</td>\n",
       "      <td>0.0</td>\n",
       "      <td>0.0</td>\n",
       "      <td>0.0</td>\n",
       "      <td>0.0</td>\n",
       "      <td>0.0</td>\n",
       "      <td>0.0</td>\n",
       "      <td>0.0</td>\n",
       "      <td>...</td>\n",
       "      <td>0.0</td>\n",
       "      <td>0.0</td>\n",
       "      <td>0.0</td>\n",
       "      <td>0.0</td>\n",
       "      <td>0.0</td>\n",
       "      <td>0.0</td>\n",
       "      <td>0.0</td>\n",
       "      <td>0.0</td>\n",
       "      <td>0.0</td>\n",
       "      <td>0.0</td>\n",
       "    </tr>\n",
       "    <tr>\n",
       "      <th>357906071838779</th>\n",
       "      <td>0.000000</td>\n",
       "      <td>0.0</td>\n",
       "      <td>0.0</td>\n",
       "      <td>0.0</td>\n",
       "      <td>0.0</td>\n",
       "      <td>0.0</td>\n",
       "      <td>0.0</td>\n",
       "      <td>0.0</td>\n",
       "      <td>0.0</td>\n",
       "      <td>0.0</td>\n",
       "      <td>...</td>\n",
       "      <td>0.0</td>\n",
       "      <td>0.0</td>\n",
       "      <td>0.0</td>\n",
       "      <td>0.0</td>\n",
       "      <td>0.0</td>\n",
       "      <td>0.0</td>\n",
       "      <td>0.0</td>\n",
       "      <td>0.0</td>\n",
       "      <td>0.0</td>\n",
       "      <td>0.0</td>\n",
       "    </tr>\n",
       "    <tr>\n",
       "      <th>357916949004532</th>\n",
       "      <td>0.458904</td>\n",
       "      <td>0.0</td>\n",
       "      <td>0.0</td>\n",
       "      <td>0.0</td>\n",
       "      <td>0.0</td>\n",
       "      <td>0.0</td>\n",
       "      <td>0.0</td>\n",
       "      <td>0.0</td>\n",
       "      <td>0.0</td>\n",
       "      <td>0.0</td>\n",
       "      <td>...</td>\n",
       "      <td>0.0</td>\n",
       "      <td>0.0</td>\n",
       "      <td>0.0</td>\n",
       "      <td>0.0</td>\n",
       "      <td>0.0</td>\n",
       "      <td>0.0</td>\n",
       "      <td>0.0</td>\n",
       "      <td>0.0</td>\n",
       "      <td>0.0</td>\n",
       "      <td>0.0</td>\n",
       "    </tr>\n",
       "    <tr>\n",
       "      <th>357917637234715</th>\n",
       "      <td>0.000000</td>\n",
       "      <td>0.0</td>\n",
       "      <td>0.0</td>\n",
       "      <td>0.0</td>\n",
       "      <td>0.0</td>\n",
       "      <td>0.0</td>\n",
       "      <td>0.0</td>\n",
       "      <td>0.0</td>\n",
       "      <td>0.0</td>\n",
       "      <td>0.0</td>\n",
       "      <td>...</td>\n",
       "      <td>0.0</td>\n",
       "      <td>0.0</td>\n",
       "      <td>0.0</td>\n",
       "      <td>0.0</td>\n",
       "      <td>0.0</td>\n",
       "      <td>0.0</td>\n",
       "      <td>0.0</td>\n",
       "      <td>0.0</td>\n",
       "      <td>0.0</td>\n",
       "      <td>0.0</td>\n",
       "    </tr>\n",
       "  </tbody>\n",
       "</table>\n",
       "<p>5 rows × 960 columns</p>\n",
       "</div>"
      ],
      "text/plain": [
       "user_id          1295366     8482886     13101732    14125503    16099098    \\\n",
       "view_spu                                                                      \n",
       "357872333107204    0.000000         0.0         0.0         0.0         0.0   \n",
       "357875526680651    0.000000         0.0         0.0         0.0         0.0   \n",
       "357906071838779    0.000000         0.0         0.0         0.0         0.0   \n",
       "357916949004532    0.458904         0.0         0.0         0.0         0.0   \n",
       "357917637234715    0.000000         0.0         0.0         0.0         0.0   \n",
       "\n",
       "user_id          20566407    22352156    24507341    27740099    30252115    \\\n",
       "view_spu                                                                      \n",
       "357872333107204         0.0         0.0         0.0         0.0         0.0   \n",
       "357875526680651         0.0         0.0         0.0         0.0         0.0   \n",
       "357906071838779         0.0         0.0         0.0         0.0         0.0   \n",
       "357916949004532         0.0         0.0         0.0         0.0         0.0   \n",
       "357917637234715         0.0         0.0         0.0         0.0         0.0   \n",
       "\n",
       "user_id             ...      4264733572  4270148207  4275983155  4276675302  \\\n",
       "view_spu            ...                                                       \n",
       "357872333107204     ...             0.0         0.0         0.0         0.0   \n",
       "357875526680651     ...             0.0         0.0         0.0         0.0   \n",
       "357906071838779     ...             0.0         0.0         0.0         0.0   \n",
       "357916949004532     ...             0.0         0.0         0.0         0.0   \n",
       "357917637234715     ...             0.0         0.0         0.0         0.0   \n",
       "\n",
       "user_id          4277692742  4283827450  4286717580  4290093151  4291306354  \\\n",
       "view_spu                                                                      \n",
       "357872333107204         0.0         0.0         0.0         0.0         0.0   \n",
       "357875526680651         0.0         0.0         0.0         0.0         0.0   \n",
       "357906071838779         0.0         0.0         0.0         0.0         0.0   \n",
       "357916949004532         0.0         0.0         0.0         0.0         0.0   \n",
       "357917637234715         0.0         0.0         0.0         0.0         0.0   \n",
       "\n",
       "user_id          4293073173  \n",
       "view_spu                     \n",
       "357872333107204         0.0  \n",
       "357875526680651         0.0  \n",
       "357906071838779         0.0  \n",
       "357916949004532         0.0  \n",
       "357917637234715         0.0  \n",
       "\n",
       "[5 rows x 960 columns]"
      ]
     },
     "execution_count": 14,
     "metadata": {},
     "output_type": "execute_result"
    }
   ],
   "source": [
    "piv_norm.head()"
   ]
  },
  {
   "cell_type": "code",
   "execution_count": 15,
   "metadata": {
    "collapsed": true
   },
   "outputs": [],
   "source": [
    "from sklearn.metrics.pairwise import cosine_similarity\n",
    "item_similarity = cosine_similarity(piv_sparse)\n",
    "user_similarity = cosine_similarity(piv_sparse.T)"
   ]
  },
  {
   "cell_type": "code",
   "execution_count": 16,
   "metadata": {},
   "outputs": [],
   "source": [
    "item_sim_df = pd.DataFrame(item_similarity, index = piv_norm.index, columns = piv_norm.index)\n",
    "user_sim_df = pd.DataFrame(user_similarity, index = piv_norm.columns, columns = piv_norm.columns)\n",
    "#plt.imshow(item_sim_df)"
   ]
  },
  {
   "cell_type": "markdown",
   "metadata": {},
   "source": [
    "### Sample Users"
   ]
  },
  {
   "cell_type": "code",
   "execution_count": 17,
   "metadata": {},
   "outputs": [
    {
     "data": {
      "text/plain": [
       "array([ 269153260, 1164798780,   68941623, 2154235736,  838953520,\n",
       "       4107274384,   75038489, 2937898509,  781973261, 3622532534,\n",
       "       3867659946, 3118259432,  426353564, 2062710755,   36685865,\n",
       "       1793214582, 2417739500, 3249218110, 1514049382, 2637178944,\n",
       "       3002819402, 2980016312, 1624151542, 1444207729, 1871787225,\n",
       "       4064302909, 1552418547, 3640775830,  141376821, 3041015364,\n",
       "       1220719203,  426918763, 1793214582, 1044678361, 4139215834,\n",
       "        155796768,  870738567, 4088389613, 1537742152,  629567679,\n",
       "       3828145790, 3012027097, 3665473923, 2422785978,  619219604,\n",
       "       1963546906, 1798853887, 4286717580,   68941623, 4261722733,\n",
       "        838953520,  500299914,  723084610, 3469385525, 3622157321,\n",
       "       2644882085, 2802149778, 1198320626, 3030691418, 3382471229,\n",
       "       1772018301, 3595778187, 1387486416, 2760169369, 3249218110,\n",
       "       1537489360,  894837321, 3711863103,  555609248, 1030219159,\n",
       "       3558233166, 2199105326, 1703590970, 1497427234,  137700101,\n",
       "       1288737363, 3424838452, 1497427234,  137700101, 3665473923,\n",
       "       1158991327, 3686792008, 2773863316, 1974576134, 1117536491,\n",
       "       1399968418, 2981539754, 2346977754, 3091559815,  198389784,\n",
       "       2346977754, 1778492584, 1703590970, 3687647503, 3244278090,\n",
       "       1053049783, 1445948153,  910281399,   16099098, 2721570305,\n",
       "       1570801257,  248346273, 1728438358,  189684919, 1559814185,\n",
       "        510950181, 2263046174, 3705901957,  109352869, 3952837158,\n",
       "       4275983155, 2714905656, 4009989077, 4121865843, 3155025921,\n",
       "       2532587764, 3409590483, 4130389015,   68941623, 3796836019,\n",
       "       2034961778, 2302324734, 1570801257, 3220205609, 1429148322,\n",
       "       2292554318, 3746316601, 3222162935, 1406333837, 4134732114,\n",
       "        611678981, 4009989077, 2197636045, 4081395694, 1675923005,\n",
       "       2641312355, 3556744293, 2796872828, 4258164376, 3435811676,\n",
       "       2651190003,  403248182, 2966170273, 3828145790, 1523930368,\n",
       "       1088104714, 1514049382, 1840208416, 4121865843, 1429148322,\n",
       "       3047782058, 2780659405, 3320958120, 3195417468, 2944191096,\n",
       "       2452803515,  212184230, 1978582557, 4214524789, 2006630190,\n",
       "        884194522, 4130389015, 3878895155, 1452231547, 1049218584,\n",
       "       1606115807, 2128239339, 3568958769, 2881493382, 1429148322,\n",
       "       1066124180, 1862283844, 4134282643,  412125237, 3716524787,\n",
       "       1934543085, 2065826280, 2601550192, 3344605317, 3679813974,\n",
       "       2692567730, 2104900549, 3155808526, 2647658278, 3211092580,\n",
       "       2094952876, 3056273246, 4062255577, 3716524787, 1176270631,\n",
       "       2897801817, 4275983155,  619219604, 3979559079,  705936831,\n",
       "          8482886, 1543499458,  285943227,  973324459, 3476186506])"
      ]
     },
     "execution_count": 17,
     "metadata": {},
     "output_type": "execute_result"
    }
   ],
   "source": [
    "users_sample = np.random.choice(user_sample,size=200)\n",
    "users_sample"
   ]
  },
  {
   "cell_type": "markdown",
   "metadata": {},
   "source": [
    "### Example User"
   ]
  },
  {
   "cell_type": "code",
   "execution_count": 20,
   "metadata": {},
   "outputs": [
    {
     "name": "stdout",
     "output_type": "stream",
     "text": [
      "Use scipy logsumexp().\n"
     ]
    }
   ],
   "source": [
    "# functions for all the recommendation methods. \n",
    "import src\n",
    "import src.recommendation_v2\n",
    "reload(src.recommendation_v2)\n",
    "from src.recommendation_v2 import *\n",
    "\n"
   ]
  },
  {
   "cell_type": "code",
   "execution_count": 21,
   "metadata": {},
   "outputs": [
    {
     "name": "stdout",
     "output_type": "stream",
     "text": [
      "user buy rank 35.0 out of 166.0 candidates\n"
     ]
    }
   ],
   "source": [
    "extra_inputs = {'pca':pca}\n",
    "extra_inputs['dr_params']={'method':'PCA','ndims':50}\n",
    "extra_inputs['cp_params']={'method':'Offline'}\n",
    "\n",
    "user = User(users_sample[21],user_profile,spu_fea,extra_inputs=extra_inputs)\n",
    "user.create_candidates()\n",
    "\n",
    "#user.rank_candidates(method='AverageFeatureSim_AfterChangePoint')\n",
    "user.rank_candidates(method='AverageFeatureSim_withinSegments')\n",
    "#user.rank_candidates(method='AverageFeatureSim')\n",
    "\n",
    "#user.rank_candidates(method='Last5ItemSim')\n",
    "print('user buy rank {0} out of {1} candidates').format(user.user_buy_rank,user.no_ranks)"
   ]
  },
  {
   "cell_type": "code",
   "execution_count": 22,
   "metadata": {},
   "outputs": [
    {
     "name": "stdout",
     "output_type": "stream",
     "text": [
      "user buy rank 91.5 out of 473.0 candidates\n"
     ]
    }
   ],
   "source": [
    "user = User(users_sample[10],user_profile,spu_fea,extra_inputs={'pca':pca,'item_item_similarity':item_sim_df})\n",
    "user.create_candidates()\n",
    "#user.rank_candidates(method='AverageFeatureSim_AfterChangePoint')\n",
    "user.rank_candidates(method='Item-CF')\n",
    "print('user buy rank {0} out of {1} candidates').format(user.user_buy_rank,user.no_ranks)"
   ]
  },
  {
   "cell_type": "markdown",
   "metadata": {},
   "source": [
    "### Evaluate Several Algorithms on Several Users"
   ]
  },
  {
   "cell_type": "code",
   "execution_count": 23,
   "metadata": {
    "scrolled": false,
    "slideshow": {
     "slide_type": "slide"
    }
   },
   "outputs": [
    {
     "name": "stdout",
     "output_type": "stream",
     "text": [
      "0\n"
     ]
    },
    {
     "name": "stderr",
     "output_type": "stream",
     "text": [
      "/Users/chris/anaconda/envs/virtenv/lib/python2.7/site-packages/numpy/core/fromnumeric.py:2889: RuntimeWarning: Mean of empty slice.\n",
      "  out=out, **kwargs)\n",
      "/Users/chris/anaconda/envs/virtenv/lib/python2.7/site-packages/numpy/core/_methods.py:73: RuntimeWarning: invalid value encountered in true_divide\n",
      "  ret, rcount, out=ret, casting='unsafe', subok=False)\n"
     ]
    },
    {
     "name": "stdout",
     "output_type": "stream",
     "text": [
      "10\n",
      "20\n",
      "30\n",
      "40\n",
      "50\n",
      "60\n",
      "70\n",
      "80\n",
      "90\n",
      "100\n",
      "110\n",
      "120\n",
      "130\n",
      "140\n",
      "150\n",
      "160\n",
      "170\n",
      "180\n",
      "190\n"
     ]
    }
   ],
   "source": [
    "user_buy_ranks = np.empty(len(users_sample))\n",
    "no_ranks = np.empty(len(users_sample))\n",
    "\n",
    "#models = ['Random','LastItemSim','Last5ItemSim','AverageFeatureSim_AfterChangePoint','AverageFeatureSim']\n",
    "models = ['Random','Item-CF','LastItemSim','Last5ItemSim','AverageFeatureSim','AverageFeatureSim_AfterChangePoint','AverageFeatureSim_withinSegments']\n",
    "\n",
    "extra_inputs = {}\n",
    "extra_inputs['pca']=pca\n",
    "extra_inputs['item_item_similarity'] = item_sim_df\n",
    "extra_inputs['dr_params']={'method':'PCA','ndims':100}\n",
    "extra_inputs['cp_params']={'method':'Offline'}\n",
    "\n",
    "\n",
    "for ui,user_id in enumerate(users_sample):\n",
    "    if np.mod(ui,10)==0:\n",
    "        print(ui)\n",
    "    try:\n",
    "        for model in models:\n",
    "    \n",
    "            user = User(user_id,user_profile,spu_fea,extra_inputs=extra_inputs )\n",
    "            user.create_candidates()\n",
    "            user.rank_candidates(method=model)\n",
    "\n",
    "            row = pd.Series(data=np.array([user_id,model,user.user_buy_rank,user.no_ranks]),index = ['user_id','model','user_buy_rank','no_ranks'])\n",
    "            if ui==0:\n",
    "                df = row.to_frame().T\n",
    "            else:\n",
    "                df = pd.concat((df,row.to_frame().T))\n",
    "    except:\n",
    "        print('failed')\n",
    "\n",
    "df['user_buy_rank']=df['user_buy_rank'].astype('float')\n",
    "df['no_ranks']=df['no_ranks'].astype('float')\n",
    "df['average_buy_rank']=df['user_buy_rank']/df['no_ranks']"
   ]
  },
  {
   "cell_type": "code",
   "execution_count": 25,
   "metadata": {},
   "outputs": [],
   "source": [
    "df.to_csv('../model_comparison_sample_1000_subsample200_v1.csv')"
   ]
  },
  {
   "cell_type": "code",
   "execution_count": 26,
   "metadata": {},
   "outputs": [
    {
     "data": {
      "text/html": [
       "<div>\n",
       "<style>\n",
       "    .dataframe thead tr:only-child th {\n",
       "        text-align: right;\n",
       "    }\n",
       "\n",
       "    .dataframe thead th {\n",
       "        text-align: left;\n",
       "    }\n",
       "\n",
       "    .dataframe tbody tr th {\n",
       "        vertical-align: top;\n",
       "    }\n",
       "</style>\n",
       "<table border=\"1\" class=\"dataframe\">\n",
       "  <thead>\n",
       "    <tr style=\"text-align: right;\">\n",
       "      <th></th>\n",
       "      <th>user_id</th>\n",
       "      <th>model</th>\n",
       "      <th>user_buy_rank</th>\n",
       "      <th>no_ranks</th>\n",
       "      <th>average_buy_rank</th>\n",
       "    </tr>\n",
       "  </thead>\n",
       "  <tbody>\n",
       "    <tr>\n",
       "      <th>0</th>\n",
       "      <td>269153260</td>\n",
       "      <td>AvgFeat_Segment</td>\n",
       "      <td>79.0</td>\n",
       "      <td>508.0</td>\n",
       "      <td>0.155512</td>\n",
       "    </tr>\n",
       "    <tr>\n",
       "      <th>0</th>\n",
       "      <td>1164798780</td>\n",
       "      <td>Random</td>\n",
       "      <td>40.0</td>\n",
       "      <td>65.0</td>\n",
       "      <td>0.615385</td>\n",
       "    </tr>\n",
       "    <tr>\n",
       "      <th>0</th>\n",
       "      <td>1164798780</td>\n",
       "      <td>Item-CF</td>\n",
       "      <td>25.5</td>\n",
       "      <td>65.0</td>\n",
       "      <td>0.392308</td>\n",
       "    </tr>\n",
       "    <tr>\n",
       "      <th>0</th>\n",
       "      <td>1164798780</td>\n",
       "      <td>LastItemSim</td>\n",
       "      <td>21.0</td>\n",
       "      <td>65.0</td>\n",
       "      <td>0.323077</td>\n",
       "    </tr>\n",
       "    <tr>\n",
       "      <th>0</th>\n",
       "      <td>1164798780</td>\n",
       "      <td>Last5ItemSim</td>\n",
       "      <td>55.0</td>\n",
       "      <td>65.0</td>\n",
       "      <td>0.846154</td>\n",
       "    </tr>\n",
       "  </tbody>\n",
       "</table>\n",
       "</div>"
      ],
      "text/plain": [
       "      user_id            model  user_buy_rank  no_ranks  average_buy_rank\n",
       "0   269153260  AvgFeat_Segment           79.0     508.0          0.155512\n",
       "0  1164798780           Random           40.0      65.0          0.615385\n",
       "0  1164798780          Item-CF           25.5      65.0          0.392308\n",
       "0  1164798780      LastItemSim           21.0      65.0          0.323077\n",
       "0  1164798780     Last5ItemSim           55.0      65.0          0.846154"
      ]
     },
     "execution_count": 26,
     "metadata": {},
     "output_type": "execute_result"
    }
   ],
   "source": [
    "\n",
    "#df['model'] = df.model.astype('category')\n",
    "\n",
    "df =df.replace({'model': {'AverageFeatureSim': 'AvgFeat'}})\n",
    "df =df.replace({'model': {'AverageFeatureSim_withinSegments': 'AvgFeat_Segment'}})\n",
    "df = df.replace({'model': {'AverageFeatureSim_AfterChangePoint': 'AvgFeat_lastSegment'}})\n",
    "df.head()\n"
   ]
  },
  {
   "cell_type": "code",
   "execution_count": 30,
   "metadata": {},
   "outputs": [
    {
     "data": {
      "image/png": "[encoded data removed]",
      "text/plain": [
       "<matplotlib.figure.Figure at 0x1169aefd0>"
      ]
     },
     "metadata": {},
     "output_type": "display_data"
    }
   ],
   "source": [
    "\n",
    "# plt.figure(figsize=(3,5))\n",
    "# models_for_plot = ['Random','AvgFeat']\n",
    "# part='1'\n",
    "\n",
    "# plt.figure(figsize=(5,5))\n",
    "# models_for_plot = ['Random','AvgFeat','AvgFeat_lastSegment','AvgFeat_Segment']\n",
    "# part = '2'\n",
    "\n",
    "# # plt.figure(figsize=(6,5))\n",
    "# # models_for_plot = ['Random','AvgFeat','AvgFeat_lastSegment','AvgFeat_Segment','Item-CF']\n",
    "# # part = '3'\n",
    "\n",
    "# plt.figure(figsize=(4,5))\n",
    "# models_for_plot = ['Random','AvgFeat','Item-CF']\n",
    "# part = '3'\n",
    "\n",
    "\n",
    "plt.figure(figsize=(6,5))\n",
    "models_for_plot = ['Random','AvgFeat','AvgFeat_lastSegment','AvgFeat_Segment','Item-CF','LastItemSim','Last5ItemSim']\n",
    "part = 'all'\n",
    "\n",
    "\n",
    "df_plot = df[df['model'].isin(models_for_plot)]\n",
    "df_plot['model']=df_plot.model.astype('str').astype('category')\n",
    "df_plot['model'].cat.reorder_categories(models_for_plot,inplace=True)\n",
    "\n",
    "             \n",
    "ax = sns.barplot(x=\"model\", y=\"average_buy_rank\", data=df_plot,alpha=0.5,ci=95)\n",
    "sns.despine()\n",
    "\n",
    "plt.title('Recommender Comparison')\n",
    "plt.ylabel('Average Buy Rank (/ # in Buy Category)')\n",
    "plt.axhline(y=0.5,linestyle='--')\n",
    "#plt.axhline(y=0.6,linestyle='--')\n",
    "for item in ax.get_xticklabels():\n",
    "    item.set_rotation(30)\n",
    "plt.tight_layout()\n",
    "savefile = '../figures/recommender_comparison_sample_1000_subsample200_v1_part'+part+'.png'\n",
    "plt.savefig(savefile,dpi=300)"
   ]
  },
  {
   "cell_type": "code",
   "execution_count": 31,
   "metadata": {},
   "outputs": [
    {
     "data": {
      "text/html": [
       "<div>\n",
       "<style>\n",
       "    .dataframe thead tr:only-child th {\n",
       "        text-align: right;\n",
       "    }\n",
       "\n",
       "    .dataframe thead th {\n",
       "        text-align: left;\n",
       "    }\n",
       "\n",
       "    .dataframe tbody tr th {\n",
       "        vertical-align: top;\n",
       "    }\n",
       "</style>\n",
       "<table border=\"1\" class=\"dataframe\">\n",
       "  <thead>\n",
       "    <tr>\n",
       "      <th></th>\n",
       "      <th>user_buy_rank</th>\n",
       "      <th>no_ranks</th>\n",
       "      <th>average_buy_rank</th>\n",
       "    </tr>\n",
       "    <tr>\n",
       "      <th></th>\n",
       "      <th>mean</th>\n",
       "      <th>mean</th>\n",
       "      <th>mean</th>\n",
       "    </tr>\n",
       "    <tr>\n",
       "      <th>model</th>\n",
       "      <th></th>\n",
       "      <th></th>\n",
       "      <th></th>\n",
       "    </tr>\n",
       "  </thead>\n",
       "  <tbody>\n",
       "    <tr>\n",
       "      <th>AvgFeat</th>\n",
       "      <td>111.801508</td>\n",
       "      <td>184.113065</td>\n",
       "      <td>0.567761</td>\n",
       "    </tr>\n",
       "    <tr>\n",
       "      <th>AvgFeat_Segment</th>\n",
       "      <td>111.211230</td>\n",
       "      <td>184.842246</td>\n",
       "      <td>0.561964</td>\n",
       "    </tr>\n",
       "    <tr>\n",
       "      <th>AvgFeat_lastSegment</th>\n",
       "      <td>112.404523</td>\n",
       "      <td>184.113065</td>\n",
       "      <td>0.571574</td>\n",
       "    </tr>\n",
       "    <tr>\n",
       "      <th>Item-CF</th>\n",
       "      <td>104.070352</td>\n",
       "      <td>183.582915</td>\n",
       "      <td>0.554076</td>\n",
       "    </tr>\n",
       "    <tr>\n",
       "      <th>Last5ItemSim</th>\n",
       "      <td>110.459799</td>\n",
       "      <td>184.110553</td>\n",
       "      <td>0.555499</td>\n",
       "    </tr>\n",
       "    <tr>\n",
       "      <th>LastItemSim</th>\n",
       "      <td>106.344221</td>\n",
       "      <td>184.113065</td>\n",
       "      <td>0.542996</td>\n",
       "    </tr>\n",
       "    <tr>\n",
       "      <th>Random</th>\n",
       "      <td>81.763819</td>\n",
       "      <td>184.125628</td>\n",
       "      <td>0.478699</td>\n",
       "    </tr>\n",
       "  </tbody>\n",
       "</table>\n",
       "</div>"
      ],
      "text/plain": [
       "                    user_buy_rank    no_ranks average_buy_rank\n",
       "                             mean        mean             mean\n",
       "model                                                         \n",
       "AvgFeat                111.801508  184.113065         0.567761\n",
       "AvgFeat_Segment        111.211230  184.842246         0.561964\n",
       "AvgFeat_lastSegment    112.404523  184.113065         0.571574\n",
       "Item-CF                104.070352  183.582915         0.554076\n",
       "Last5ItemSim           110.459799  184.110553         0.555499\n",
       "LastItemSim            106.344221  184.113065         0.542996\n",
       "Random                  81.763819  184.125628         0.478699"
      ]
     },
     "execution_count": 31,
     "metadata": {},
     "output_type": "execute_result"
    }
   ],
   "source": [
    "df.groupby('model').agg(['mean'])"
   ]
  },
  {
   "cell_type": "code",
   "execution_count": 32,
   "metadata": {},
   "outputs": [
    {
     "data": {
      "text/html": [
       "<div>\n",
       "<style>\n",
       "    .dataframe thead tr:only-child th {\n",
       "        text-align: right;\n",
       "    }\n",
       "\n",
       "    .dataframe thead th {\n",
       "        text-align: left;\n",
       "    }\n",
       "\n",
       "    .dataframe tbody tr th {\n",
       "        vertical-align: top;\n",
       "    }\n",
       "</style>\n",
       "<table border=\"1\" class=\"dataframe\">\n",
       "  <thead>\n",
       "    <tr style=\"text-align: right;\">\n",
       "      <th></th>\n",
       "      <th>user_id</th>\n",
       "      <th>model</th>\n",
       "      <th>user_buy_rank</th>\n",
       "      <th>no_ranks</th>\n",
       "      <th>average_buy_rank</th>\n",
       "    </tr>\n",
       "  </thead>\n",
       "  <tbody>\n",
       "    <tr>\n",
       "      <th>0</th>\n",
       "      <td>1030219159</td>\n",
       "      <td>AvgFeat_lastSegment</td>\n",
       "      <td>10.0</td>\n",
       "      <td>87.0</td>\n",
       "      <td>0.114943</td>\n",
       "    </tr>\n",
       "    <tr>\n",
       "      <th>0</th>\n",
       "      <td>1030219159</td>\n",
       "      <td>AvgFeat</td>\n",
       "      <td>10.0</td>\n",
       "      <td>87.0</td>\n",
       "      <td>0.114943</td>\n",
       "    </tr>\n",
       "    <tr>\n",
       "      <th>0</th>\n",
       "      <td>1030219159</td>\n",
       "      <td>Last5ItemSim</td>\n",
       "      <td>22.0</td>\n",
       "      <td>87.0</td>\n",
       "      <td>0.252874</td>\n",
       "    </tr>\n",
       "    <tr>\n",
       "      <th>0</th>\n",
       "      <td>1030219159</td>\n",
       "      <td>LastItemSim</td>\n",
       "      <td>77.0</td>\n",
       "      <td>87.0</td>\n",
       "      <td>0.885057</td>\n",
       "    </tr>\n",
       "    <tr>\n",
       "      <th>0</th>\n",
       "      <td>1030219159</td>\n",
       "      <td>Item-CF</td>\n",
       "      <td>78.0</td>\n",
       "      <td>87.0</td>\n",
       "      <td>0.896552</td>\n",
       "    </tr>\n",
       "  </tbody>\n",
       "</table>\n",
       "</div>"
      ],
      "text/plain": [
       "      user_id                model  user_buy_rank  no_ranks  average_buy_rank\n",
       "0  1030219159  AvgFeat_lastSegment           10.0      87.0          0.114943\n",
       "0  1030219159              AvgFeat           10.0      87.0          0.114943\n",
       "0  1030219159         Last5ItemSim           22.0      87.0          0.252874\n",
       "0  1030219159          LastItemSim           77.0      87.0          0.885057\n",
       "0  1030219159              Item-CF           78.0      87.0          0.896552"
      ]
     },
     "execution_count": 32,
     "metadata": {},
     "output_type": "execute_result"
    }
   ],
   "source": [
    "df.sort_values(by='user_id').head()"
   ]
  },
  {
   "cell_type": "code",
   "execution_count": 37,
   "metadata": {},
   "outputs": [],
   "source": [
    "# # # pairwise comparisons\n",
    "# df_pivot = df.copy().reset_index()\n",
    "# df_pivot = df.pivot(index='user_id',columns='model',values='average_buy_rank')\n",
    "# df_pivot.head()"
   ]
  },
  {
   "cell_type": "code",
   "execution_count": 38,
   "metadata": {},
   "outputs": [],
   "source": [
    "# ax = sns.lmplot(x='AverageFeatureSim',y='AverageFeatureSim_withinSegments',data=df_pivot,fit_reg=False)\n",
    "# plt.plot(np.arange(0,1,0.1),np.arange(0,1,0.1),linestyle='--',c='k')"
   ]
  },
  {
   "cell_type": "code",
   "execution_count": null,
   "metadata": {
    "collapsed": true
   },
   "outputs": [],
   "source": [
    "from src import s3_data_management\n",
    "s3_data_management.push_results_to_s3(os.path.basename(savefile),savefile)"
   ]
  },
  {
   "cell_type": "markdown",
   "metadata": {},
   "source": [
    "# New Evaluation DataSet"
   ]
  },
  {
   "cell_type": "markdown",
   "metadata": {},
   "source": [
    "### Load New Evaluation Dataset"
   ]
  },
  {
   "cell_type": "code",
   "execution_count": 142,
   "metadata": {},
   "outputs": [
    {
     "data": {
      "text/html": [
       "<div>\n",
       "<style>\n",
       "    .dataframe thead tr:only-child th {\n",
       "        text-align: right;\n",
       "    }\n",
       "\n",
       "    .dataframe thead th {\n",
       "        text-align: left;\n",
       "    }\n",
       "\n",
       "    .dataframe tbody tr th {\n",
       "        vertical-align: top;\n",
       "    }\n",
       "</style>\n",
       "<table border=\"1\" class=\"dataframe\">\n",
       "  <thead>\n",
       "    <tr style=\"text-align: right;\">\n",
       "      <th></th>\n",
       "      <th>0</th>\n",
       "      <th>user_id</th>\n",
       "      <th>buy_spu</th>\n",
       "      <th>buy_sn</th>\n",
       "      <th>buy_ct3</th>\n",
       "      <th>view_spu</th>\n",
       "      <th>view_sn</th>\n",
       "      <th>view_ct3</th>\n",
       "      <th>time_interval</th>\n",
       "      <th>view_cnt</th>\n",
       "      <th>view_secondes</th>\n",
       "      <th>view_features</th>\n",
       "      <th>buy_features</th>\n",
       "      <th>spu_x</th>\n",
       "      <th>url</th>\n",
       "      <th>user_buy</th>\n",
       "      <th>CF_item_x</th>\n",
       "      <th>spu_features</th>\n",
       "      <th>CF_features</th>\n",
       "      <th>ave_CF_fea</th>\n",
       "    </tr>\n",
       "  </thead>\n",
       "  <tbody>\n",
       "    <tr>\n",
       "      <th>0</th>\n",
       "      <td>4209887493\\t453532580309307392\\t10004616\\t334\\...</td>\n",
       "      <td>4209887493</td>\n",
       "      <td>453532580309307392</td>\n",
       "      <td>10004616</td>\n",
       "      <td>334</td>\n",
       "      <td>14150170026959126</td>\n",
       "      <td>10010102</td>\n",
       "      <td>334</td>\n",
       "      <td>21114</td>\n",
       "      <td>1</td>\n",
       "      <td>11</td>\n",
       "      <td>[0.135, 1.078, 0.06, 0.241, 0.213, 0.22, 0.039...</td>\n",
       "      <td>[0.1, 1.804, 0.049, 0.883, 0.092, 0.053, 0.042...</td>\n",
       "      <td>14150170026959126</td>\n",
       "      <td>http://a.vpimg2.com/upload/merchandise/pdcvis/...</td>\n",
       "      <td>4209887493-453532580309307392</td>\n",
       "      <td>[82267097285177879, 12742773141631009, 8883989...</td>\n",
       "      <td>[0.135, 1.078, 0.06, 0.241, 0.213, 0.22, 0.039...</td>\n",
       "      <td>[[[0.495, 1.32, 0.022, 0.126, 0.007, 0.181, 0....</td>\n",
       "      <td>[0.447, 1.2384, 0.0129, 0.1834, 0.0854, 0.0701...</td>\n",
       "    </tr>\n",
       "    <tr>\n",
       "      <th>1</th>\n",
       "      <td>529805243\\t103096245561765919\\t10010102\\t334\\t...</td>\n",
       "      <td>529805243</td>\n",
       "      <td>103096245561765919</td>\n",
       "      <td>10010102</td>\n",
       "      <td>334</td>\n",
       "      <td>14150170026959126</td>\n",
       "      <td>10010102</td>\n",
       "      <td>334</td>\n",
       "      <td>37794</td>\n",
       "      <td>4</td>\n",
       "      <td>66</td>\n",
       "      <td>[0.135, 1.078, 0.06, 0.241, 0.213, 0.22, 0.039...</td>\n",
       "      <td>[0.467, 0.385, 0.0, 0.043, 0.292, 0.0, 0.448, ...</td>\n",
       "      <td>14150170026959126</td>\n",
       "      <td>http://a.vpimg2.com/upload/merchandise/pdcvis/...</td>\n",
       "      <td>529805243-103096245561765919</td>\n",
       "      <td>[82267097285177879, 12742773141631009, 8883989...</td>\n",
       "      <td>[0.135, 1.078, 0.06, 0.241, 0.213, 0.22, 0.039...</td>\n",
       "      <td>[[[0.495, 1.32, 0.022, 0.126, 0.007, 0.181, 0....</td>\n",
       "      <td>[0.447, 1.2384, 0.0129, 0.1834, 0.0854, 0.0701...</td>\n",
       "    </tr>\n",
       "    <tr>\n",
       "      <th>2</th>\n",
       "      <td>3748045464\\t446777176556679168\\t10005711\\t334\\...</td>\n",
       "      <td>3748045464</td>\n",
       "      <td>446777176556679168</td>\n",
       "      <td>10005711</td>\n",
       "      <td>334</td>\n",
       "      <td>14150170026959126</td>\n",
       "      <td>10010102</td>\n",
       "      <td>334</td>\n",
       "      <td>18820</td>\n",
       "      <td>1</td>\n",
       "      <td>34</td>\n",
       "      <td>[0.135, 1.078, 0.06, 0.241, 0.213, 0.22, 0.039...</td>\n",
       "      <td>[0.018, 0.161, 0.088, 0.141, 0.231, 0.0, 0.036...</td>\n",
       "      <td>14150170026959126</td>\n",
       "      <td>http://a.vpimg2.com/upload/merchandise/pdcvis/...</td>\n",
       "      <td>3748045464-446777176556679168</td>\n",
       "      <td>[82267097285177879, 12742773141631009, 8883989...</td>\n",
       "      <td>[0.135, 1.078, 0.06, 0.241, 0.213, 0.22, 0.039...</td>\n",
       "      <td>[[[0.495, 1.32, 0.022, 0.126, 0.007, 0.181, 0....</td>\n",
       "      <td>[0.447, 1.2384, 0.0129, 0.1834, 0.0854, 0.0701...</td>\n",
       "    </tr>\n",
       "    <tr>\n",
       "      <th>3</th>\n",
       "      <td>4209887493\\t438895881520357521\\t10004616\\t334\\...</td>\n",
       "      <td>4209887493</td>\n",
       "      <td>438895881520357521</td>\n",
       "      <td>10004616</td>\n",
       "      <td>334</td>\n",
       "      <td>14150170026959126</td>\n",
       "      <td>10010102</td>\n",
       "      <td>334</td>\n",
       "      <td>13978</td>\n",
       "      <td>1</td>\n",
       "      <td>11</td>\n",
       "      <td>[0.135, 1.078, 0.06, 0.241, 0.213, 0.22, 0.039...</td>\n",
       "      <td>[0.036, 0.439, 0.0, 0.074, 0.194, 0.0, 0.331, ...</td>\n",
       "      <td>14150170026959126</td>\n",
       "      <td>http://a.vpimg2.com/upload/merchandise/pdcvis/...</td>\n",
       "      <td>4209887493-438895881520357521</td>\n",
       "      <td>[82267097285177879, 12742773141631009, 8883989...</td>\n",
       "      <td>[0.135, 1.078, 0.06, 0.241, 0.213, 0.22, 0.039...</td>\n",
       "      <td>[[[0.495, 1.32, 0.022, 0.126, 0.007, 0.181, 0....</td>\n",
       "      <td>[0.447, 1.2384, 0.0129, 0.1834, 0.0854, 0.0701...</td>\n",
       "    </tr>\n",
       "    <tr>\n",
       "      <th>4</th>\n",
       "      <td>4209887493\\t74104320184119307\\t10004616\\t334\\t...</td>\n",
       "      <td>4209887493</td>\n",
       "      <td>74104320184119307</td>\n",
       "      <td>10004616</td>\n",
       "      <td>334</td>\n",
       "      <td>14150170026959126</td>\n",
       "      <td>10010102</td>\n",
       "      <td>334</td>\n",
       "      <td>14313</td>\n",
       "      <td>1</td>\n",
       "      <td>11</td>\n",
       "      <td>[0.135, 1.078, 0.06, 0.241, 0.213, 0.22, 0.039...</td>\n",
       "      <td>[0.078, 2.304, 0.132, 0.191, 0.0, 0.087, 0.341...</td>\n",
       "      <td>14150170026959126</td>\n",
       "      <td>http://a.vpimg2.com/upload/merchandise/pdcvis/...</td>\n",
       "      <td>4209887493-74104320184119307</td>\n",
       "      <td>[82267097285177879, 12742773141631009, 8883989...</td>\n",
       "      <td>[0.135, 1.078, 0.06, 0.241, 0.213, 0.22, 0.039...</td>\n",
       "      <td>[[[0.495, 1.32, 0.022, 0.126, 0.007, 0.181, 0....</td>\n",
       "      <td>[0.447, 1.2384, 0.0129, 0.1834, 0.0854, 0.0701...</td>\n",
       "    </tr>\n",
       "  </tbody>\n",
       "</table>\n",
       "</div>"
      ],
      "text/plain": [
       "                                                   0     user_id  \\\n",
       "0  4209887493\\t453532580309307392\\t10004616\\t334\\...  4209887493   \n",
       "1  529805243\\t103096245561765919\\t10010102\\t334\\t...   529805243   \n",
       "2  3748045464\\t446777176556679168\\t10005711\\t334\\...  3748045464   \n",
       "3  4209887493\\t438895881520357521\\t10004616\\t334\\...  4209887493   \n",
       "4  4209887493\\t74104320184119307\\t10004616\\t334\\t...  4209887493   \n",
       "\n",
       "              buy_spu    buy_sn  buy_ct3           view_spu   view_sn  \\\n",
       "0  453532580309307392  10004616      334  14150170026959126  10010102   \n",
       "1  103096245561765919  10010102      334  14150170026959126  10010102   \n",
       "2  446777176556679168  10005711      334  14150170026959126  10010102   \n",
       "3  438895881520357521  10004616      334  14150170026959126  10010102   \n",
       "4   74104320184119307  10004616      334  14150170026959126  10010102   \n",
       "\n",
       "   view_ct3  time_interval  view_cnt  view_secondes  \\\n",
       "0       334          21114         1             11   \n",
       "1       334          37794         4             66   \n",
       "2       334          18820         1             34   \n",
       "3       334          13978         1             11   \n",
       "4       334          14313         1             11   \n",
       "\n",
       "                                       view_features  \\\n",
       "0  [0.135, 1.078, 0.06, 0.241, 0.213, 0.22, 0.039...   \n",
       "1  [0.135, 1.078, 0.06, 0.241, 0.213, 0.22, 0.039...   \n",
       "2  [0.135, 1.078, 0.06, 0.241, 0.213, 0.22, 0.039...   \n",
       "3  [0.135, 1.078, 0.06, 0.241, 0.213, 0.22, 0.039...   \n",
       "4  [0.135, 1.078, 0.06, 0.241, 0.213, 0.22, 0.039...   \n",
       "\n",
       "                                        buy_features              spu_x  \\\n",
       "0  [0.1, 1.804, 0.049, 0.883, 0.092, 0.053, 0.042...  14150170026959126   \n",
       "1  [0.467, 0.385, 0.0, 0.043, 0.292, 0.0, 0.448, ...  14150170026959126   \n",
       "2  [0.018, 0.161, 0.088, 0.141, 0.231, 0.0, 0.036...  14150170026959126   \n",
       "3  [0.036, 0.439, 0.0, 0.074, 0.194, 0.0, 0.331, ...  14150170026959126   \n",
       "4  [0.078, 2.304, 0.132, 0.191, 0.0, 0.087, 0.341...  14150170026959126   \n",
       "\n",
       "                                                 url  \\\n",
       "0  http://a.vpimg2.com/upload/merchandise/pdcvis/...   \n",
       "1  http://a.vpimg2.com/upload/merchandise/pdcvis/...   \n",
       "2  http://a.vpimg2.com/upload/merchandise/pdcvis/...   \n",
       "3  http://a.vpimg2.com/upload/merchandise/pdcvis/...   \n",
       "4  http://a.vpimg2.com/upload/merchandise/pdcvis/...   \n",
       "\n",
       "                        user_buy  \\\n",
       "0  4209887493-453532580309307392   \n",
       "1   529805243-103096245561765919   \n",
       "2  3748045464-446777176556679168   \n",
       "3  4209887493-438895881520357521   \n",
       "4   4209887493-74104320184119307   \n",
       "\n",
       "                                           CF_item_x  \\\n",
       "0  [82267097285177879, 12742773141631009, 8883989...   \n",
       "1  [82267097285177879, 12742773141631009, 8883989...   \n",
       "2  [82267097285177879, 12742773141631009, 8883989...   \n",
       "3  [82267097285177879, 12742773141631009, 8883989...   \n",
       "4  [82267097285177879, 12742773141631009, 8883989...   \n",
       "\n",
       "                                        spu_features  \\\n",
       "0  [0.135, 1.078, 0.06, 0.241, 0.213, 0.22, 0.039...   \n",
       "1  [0.135, 1.078, 0.06, 0.241, 0.213, 0.22, 0.039...   \n",
       "2  [0.135, 1.078, 0.06, 0.241, 0.213, 0.22, 0.039...   \n",
       "3  [0.135, 1.078, 0.06, 0.241, 0.213, 0.22, 0.039...   \n",
       "4  [0.135, 1.078, 0.06, 0.241, 0.213, 0.22, 0.039...   \n",
       "\n",
       "                                         CF_features  \\\n",
       "0  [[[0.495, 1.32, 0.022, 0.126, 0.007, 0.181, 0....   \n",
       "1  [[[0.495, 1.32, 0.022, 0.126, 0.007, 0.181, 0....   \n",
       "2  [[[0.495, 1.32, 0.022, 0.126, 0.007, 0.181, 0....   \n",
       "3  [[[0.495, 1.32, 0.022, 0.126, 0.007, 0.181, 0....   \n",
       "4  [[[0.495, 1.32, 0.022, 0.126, 0.007, 0.181, 0....   \n",
       "\n",
       "                                          ave_CF_fea  \n",
       "0  [0.447, 1.2384, 0.0129, 0.1834, 0.0854, 0.0701...  \n",
       "1  [0.447, 1.2384, 0.0129, 0.1834, 0.0854, 0.0701...  \n",
       "2  [0.447, 1.2384, 0.0129, 0.1834, 0.0854, 0.0701...  \n",
       "3  [0.447, 1.2384, 0.0129, 0.1834, 0.0854, 0.0701...  \n",
       "4  [0.447, 1.2384, 0.0129, 0.1834, 0.0854, 0.0701...  "
      ]
     },
     "execution_count": 142,
     "metadata": {},
     "output_type": "execute_result"
    }
   ],
   "source": [
    "# load data \n",
    "data2 = pd.read_pickle('../view2buy_CF_user_buy.pkl')\n",
    "data2.head()"
   ]
  },
  {
   "cell_type": "code",
   "execution_count": 194,
   "metadata": {},
   "outputs": [
    {
     "name": "stdout",
     "output_type": "stream",
     "text": [
      "17460\n",
      "361\n"
     ]
    }
   ],
   "source": [
    "print(len(data2))\n",
    "print(len(data2.user_id.unique()))"
   ]
  },
  {
   "cell_type": "markdown",
   "metadata": {},
   "source": [
    "### Compute Item-Item Similarity Matrix"
   ]
  },
  {
   "cell_type": "code",
   "execution_count": 195,
   "metadata": {
    "collapsed": true
   },
   "outputs": [],
   "source": [
    "# # exclude buy items for each user\n",
    "# for user_id in data2.user_id.unique():\n",
    "    \n",
    "#     buy_spu = data2[data2.user_id==user_id,'buy_spu']\n",
    "#     data2[(data2.user_id==user_id)&(data2.buy_spu==buy_spu),'buy_spu']"
   ]
  },
  {
   "cell_type": "code",
   "execution_count": 196,
   "metadata": {},
   "outputs": [
    {
     "data": {
      "text/plain": [
       "16885"
      ]
     },
     "execution_count": 196,
     "metadata": {},
     "output_type": "execute_result"
    }
   ],
   "source": [
    "data2_without_buy = data2.query('buy_spu != view_spu')\n",
    "len(data2_without_buy)"
   ]
  },
  {
   "cell_type": "code",
   "execution_count": 197,
   "metadata": {
    "collapsed": true
   },
   "outputs": [],
   "source": [
    "piv = data2_without_buy.pivot_table(index=['user_buy'], columns=['view_spu'], values='view_cnt') # user x item matrix, with view counts in the entries\n",
    "piv_norm = piv.apply(lambda x: (x/np.mean(x)), axis=1) # normalize by number of views total per user. \n",
    "piv_norm.fillna(0, inplace=True)\n",
    "piv_norm = piv_norm.T\n",
    "piv_norm = piv_norm.loc[:, (piv_norm != 0).any(axis=0)]\n",
    "piv_sparse = sp.sparse.csr_matrix(piv_norm.values)"
   ]
  },
  {
   "cell_type": "code",
   "execution_count": 198,
   "metadata": {},
   "outputs": [
    {
     "data": {
      "text/html": [
       "<div>\n",
       "<style>\n",
       "    .dataframe thead tr:only-child th {\n",
       "        text-align: right;\n",
       "    }\n",
       "\n",
       "    .dataframe thead th {\n",
       "        text-align: left;\n",
       "    }\n",
       "\n",
       "    .dataframe tbody tr th {\n",
       "        vertical-align: top;\n",
       "    }\n",
       "</style>\n",
       "<table border=\"1\" class=\"dataframe\">\n",
       "  <thead>\n",
       "    <tr style=\"text-align: right;\">\n",
       "      <th>user_buy</th>\n",
       "      <th>1018047589-2885476247461195776</th>\n",
       "      <th>1074350764-20905574407417865</th>\n",
       "      <th>1074350764-2836218125824516096</th>\n",
       "      <th>1076790314-2893639021813923840</th>\n",
       "      <th>1076790314-4209253154853183622</th>\n",
       "      <th>1107309816-2474241306483101696</th>\n",
       "      <th>1107309816-2917845869811523584</th>\n",
       "      <th>1107420964-6370980984573702144</th>\n",
       "      <th>1145923275-2462700832436764672</th>\n",
       "      <th>1158035643-2832840426724958208</th>\n",
       "      <th>...</th>\n",
       "      <th>916895118-2465797056472944640</th>\n",
       "      <th>9254280-3925244893201649664</th>\n",
       "      <th>931853555-941328597468446721</th>\n",
       "      <th>952914660-2457634282835726336</th>\n",
       "      <th>958739744-2893639021767663616</th>\n",
       "      <th>960980006-2463545257346113536</th>\n",
       "      <th>980478665-3925244893201649664</th>\n",
       "      <th>981771354-33571915871158274</th>\n",
       "      <th>981771354-80015338899632133</th>\n",
       "      <th>996068355-1102050800015937536</th>\n",
       "    </tr>\n",
       "    <tr>\n",
       "      <th>view_spu</th>\n",
       "      <th></th>\n",
       "      <th></th>\n",
       "      <th></th>\n",
       "      <th></th>\n",
       "      <th></th>\n",
       "      <th></th>\n",
       "      <th></th>\n",
       "      <th></th>\n",
       "      <th></th>\n",
       "      <th></th>\n",
       "      <th></th>\n",
       "      <th></th>\n",
       "      <th></th>\n",
       "      <th></th>\n",
       "      <th></th>\n",
       "      <th></th>\n",
       "      <th></th>\n",
       "      <th></th>\n",
       "      <th></th>\n",
       "      <th></th>\n",
       "      <th></th>\n",
       "    </tr>\n",
       "  </thead>\n",
       "  <tbody>\n",
       "    <tr>\n",
       "      <th>357872333107204</th>\n",
       "      <td>0.0</td>\n",
       "      <td>0.0</td>\n",
       "      <td>0.0</td>\n",
       "      <td>0.0</td>\n",
       "      <td>0.0</td>\n",
       "      <td>0.0</td>\n",
       "      <td>0.0</td>\n",
       "      <td>0.0</td>\n",
       "      <td>0.0</td>\n",
       "      <td>0.0</td>\n",
       "      <td>...</td>\n",
       "      <td>0.0</td>\n",
       "      <td>0.0</td>\n",
       "      <td>0.0</td>\n",
       "      <td>0.0</td>\n",
       "      <td>0.0</td>\n",
       "      <td>0.0</td>\n",
       "      <td>0.0</td>\n",
       "      <td>0.0</td>\n",
       "      <td>0.0</td>\n",
       "      <td>0.0</td>\n",
       "    </tr>\n",
       "    <tr>\n",
       "      <th>357875526680651</th>\n",
       "      <td>0.0</td>\n",
       "      <td>0.0</td>\n",
       "      <td>0.0</td>\n",
       "      <td>0.0</td>\n",
       "      <td>0.0</td>\n",
       "      <td>0.0</td>\n",
       "      <td>0.0</td>\n",
       "      <td>0.0</td>\n",
       "      <td>0.0</td>\n",
       "      <td>0.0</td>\n",
       "      <td>...</td>\n",
       "      <td>0.0</td>\n",
       "      <td>0.0</td>\n",
       "      <td>0.0</td>\n",
       "      <td>0.0</td>\n",
       "      <td>0.0</td>\n",
       "      <td>0.0</td>\n",
       "      <td>0.0</td>\n",
       "      <td>0.0</td>\n",
       "      <td>0.0</td>\n",
       "      <td>0.0</td>\n",
       "    </tr>\n",
       "    <tr>\n",
       "      <th>357882254983171</th>\n",
       "      <td>0.0</td>\n",
       "      <td>0.0</td>\n",
       "      <td>0.0</td>\n",
       "      <td>0.0</td>\n",
       "      <td>0.0</td>\n",
       "      <td>0.0</td>\n",
       "      <td>0.0</td>\n",
       "      <td>0.0</td>\n",
       "      <td>0.0</td>\n",
       "      <td>0.0</td>\n",
       "      <td>...</td>\n",
       "      <td>0.0</td>\n",
       "      <td>0.0</td>\n",
       "      <td>0.0</td>\n",
       "      <td>0.0</td>\n",
       "      <td>0.0</td>\n",
       "      <td>0.0</td>\n",
       "      <td>0.0</td>\n",
       "      <td>0.0</td>\n",
       "      <td>0.0</td>\n",
       "      <td>0.0</td>\n",
       "    </tr>\n",
       "    <tr>\n",
       "      <th>357901107539985</th>\n",
       "      <td>0.0</td>\n",
       "      <td>0.0</td>\n",
       "      <td>0.0</td>\n",
       "      <td>0.0</td>\n",
       "      <td>0.0</td>\n",
       "      <td>0.0</td>\n",
       "      <td>0.0</td>\n",
       "      <td>0.0</td>\n",
       "      <td>0.0</td>\n",
       "      <td>0.0</td>\n",
       "      <td>...</td>\n",
       "      <td>0.0</td>\n",
       "      <td>0.0</td>\n",
       "      <td>0.0</td>\n",
       "      <td>0.0</td>\n",
       "      <td>0.0</td>\n",
       "      <td>0.0</td>\n",
       "      <td>0.0</td>\n",
       "      <td>0.0</td>\n",
       "      <td>0.0</td>\n",
       "      <td>0.0</td>\n",
       "    </tr>\n",
       "    <tr>\n",
       "      <th>639360131194904</th>\n",
       "      <td>0.0</td>\n",
       "      <td>0.0</td>\n",
       "      <td>0.0</td>\n",
       "      <td>0.0</td>\n",
       "      <td>0.0</td>\n",
       "      <td>0.0</td>\n",
       "      <td>0.0</td>\n",
       "      <td>0.0</td>\n",
       "      <td>0.0</td>\n",
       "      <td>0.0</td>\n",
       "      <td>...</td>\n",
       "      <td>0.0</td>\n",
       "      <td>0.0</td>\n",
       "      <td>0.0</td>\n",
       "      <td>0.0</td>\n",
       "      <td>0.0</td>\n",
       "      <td>0.0</td>\n",
       "      <td>0.0</td>\n",
       "      <td>0.0</td>\n",
       "      <td>0.0</td>\n",
       "      <td>0.0</td>\n",
       "    </tr>\n",
       "  </tbody>\n",
       "</table>\n",
       "<p>5 rows × 501 columns</p>\n",
       "</div>"
      ],
      "text/plain": [
       "user_buy         1018047589-2885476247461195776  1074350764-20905574407417865  \\\n",
       "view_spu                                                                        \n",
       "357872333107204                             0.0                           0.0   \n",
       "357875526680651                             0.0                           0.0   \n",
       "357882254983171                             0.0                           0.0   \n",
       "357901107539985                             0.0                           0.0   \n",
       "639360131194904                             0.0                           0.0   \n",
       "\n",
       "user_buy         1074350764-2836218125824516096  \\\n",
       "view_spu                                          \n",
       "357872333107204                             0.0   \n",
       "357875526680651                             0.0   \n",
       "357882254983171                             0.0   \n",
       "357901107539985                             0.0   \n",
       "639360131194904                             0.0   \n",
       "\n",
       "user_buy         1076790314-2893639021813923840  \\\n",
       "view_spu                                          \n",
       "357872333107204                             0.0   \n",
       "357875526680651                             0.0   \n",
       "357882254983171                             0.0   \n",
       "357901107539985                             0.0   \n",
       "639360131194904                             0.0   \n",
       "\n",
       "user_buy         1076790314-4209253154853183622  \\\n",
       "view_spu                                          \n",
       "357872333107204                             0.0   \n",
       "357875526680651                             0.0   \n",
       "357882254983171                             0.0   \n",
       "357901107539985                             0.0   \n",
       "639360131194904                             0.0   \n",
       "\n",
       "user_buy         1107309816-2474241306483101696  \\\n",
       "view_spu                                          \n",
       "357872333107204                             0.0   \n",
       "357875526680651                             0.0   \n",
       "357882254983171                             0.0   \n",
       "357901107539985                             0.0   \n",
       "639360131194904                             0.0   \n",
       "\n",
       "user_buy         1107309816-2917845869811523584  \\\n",
       "view_spu                                          \n",
       "357872333107204                             0.0   \n",
       "357875526680651                             0.0   \n",
       "357882254983171                             0.0   \n",
       "357901107539985                             0.0   \n",
       "639360131194904                             0.0   \n",
       "\n",
       "user_buy         1107420964-6370980984573702144  \\\n",
       "view_spu                                          \n",
       "357872333107204                             0.0   \n",
       "357875526680651                             0.0   \n",
       "357882254983171                             0.0   \n",
       "357901107539985                             0.0   \n",
       "639360131194904                             0.0   \n",
       "\n",
       "user_buy         1145923275-2462700832436764672  \\\n",
       "view_spu                                          \n",
       "357872333107204                             0.0   \n",
       "357875526680651                             0.0   \n",
       "357882254983171                             0.0   \n",
       "357901107539985                             0.0   \n",
       "639360131194904                             0.0   \n",
       "\n",
       "user_buy         1158035643-2832840426724958208  \\\n",
       "view_spu                                          \n",
       "357872333107204                             0.0   \n",
       "357875526680651                             0.0   \n",
       "357882254983171                             0.0   \n",
       "357901107539985                             0.0   \n",
       "639360131194904                             0.0   \n",
       "\n",
       "user_buy                     ...                916895118-2465797056472944640  \\\n",
       "view_spu                     ...                                                \n",
       "357872333107204              ...                                          0.0   \n",
       "357875526680651              ...                                          0.0   \n",
       "357882254983171              ...                                          0.0   \n",
       "357901107539985              ...                                          0.0   \n",
       "639360131194904              ...                                          0.0   \n",
       "\n",
       "user_buy         9254280-3925244893201649664  931853555-941328597468446721  \\\n",
       "view_spu                                                                     \n",
       "357872333107204                          0.0                           0.0   \n",
       "357875526680651                          0.0                           0.0   \n",
       "357882254983171                          0.0                           0.0   \n",
       "357901107539985                          0.0                           0.0   \n",
       "639360131194904                          0.0                           0.0   \n",
       "\n",
       "user_buy         952914660-2457634282835726336  958739744-2893639021767663616  \\\n",
       "view_spu                                                                        \n",
       "357872333107204                            0.0                            0.0   \n",
       "357875526680651                            0.0                            0.0   \n",
       "357882254983171                            0.0                            0.0   \n",
       "357901107539985                            0.0                            0.0   \n",
       "639360131194904                            0.0                            0.0   \n",
       "\n",
       "user_buy         960980006-2463545257346113536  980478665-3925244893201649664  \\\n",
       "view_spu                                                                        \n",
       "357872333107204                            0.0                            0.0   \n",
       "357875526680651                            0.0                            0.0   \n",
       "357882254983171                            0.0                            0.0   \n",
       "357901107539985                            0.0                            0.0   \n",
       "639360131194904                            0.0                            0.0   \n",
       "\n",
       "user_buy         981771354-33571915871158274  981771354-80015338899632133  \\\n",
       "view_spu                                                                    \n",
       "357872333107204                          0.0                          0.0   \n",
       "357875526680651                          0.0                          0.0   \n",
       "357882254983171                          0.0                          0.0   \n",
       "357901107539985                          0.0                          0.0   \n",
       "639360131194904                          0.0                          0.0   \n",
       "\n",
       "user_buy         996068355-1102050800015937536  \n",
       "view_spu                                        \n",
       "357872333107204                            0.0  \n",
       "357875526680651                            0.0  \n",
       "357882254983171                            0.0  \n",
       "357901107539985                            0.0  \n",
       "639360131194904                            0.0  \n",
       "\n",
       "[5 rows x 501 columns]"
      ]
     },
     "execution_count": 198,
     "metadata": {},
     "output_type": "execute_result"
    }
   ],
   "source": [
    "piv_norm.head()"
   ]
  },
  {
   "cell_type": "code",
   "execution_count": 199,
   "metadata": {
    "collapsed": true
   },
   "outputs": [],
   "source": [
    "from sklearn.metrics.pairwise import cosine_similarity\n",
    "item_similarity = cosine_similarity(piv_sparse)\n",
    "user_similarity = cosine_similarity(piv_sparse.T)"
   ]
  },
  {
   "cell_type": "code",
   "execution_count": 200,
   "metadata": {
    "collapsed": true
   },
   "outputs": [],
   "source": [
    "item_sim_df = pd.DataFrame(item_similarity, index = piv_norm.index, columns = piv_norm.index)\n",
    "user_sim_df = pd.DataFrame(user_similarity, index = piv_norm.columns, columns = piv_norm.columns)"
   ]
  },
  {
   "cell_type": "code",
   "execution_count": 83,
   "metadata": {},
   "outputs": [
    {
     "data": {
      "text/plain": [
       "<matplotlib.image.AxesImage at 0x11761e0d0>"
      ]
     },
     "execution_count": 83,
     "metadata": {},
     "output_type": "execute_result"
    },
    {
     "data": {
      "image/png": "[encoded data removed]",
      "text/plain": [
       "<matplotlib.figure.Figure at 0x117239690>"
      ]
     },
     "metadata": {},
     "output_type": "display_data"
    }
   ],
   "source": [
    "plt.imshow(item_sim_df)"
   ]
  },
  {
   "cell_type": "markdown",
   "metadata": {},
   "source": [
    "### Changing data to make compatable "
   ]
  },
  {
   "cell_type": "code",
   "execution_count": 201,
   "metadata": {},
   "outputs": [
    {
     "data": {
      "text/html": [
       "<div>\n",
       "<style>\n",
       "    .dataframe thead tr:only-child th {\n",
       "        text-align: right;\n",
       "    }\n",
       "\n",
       "    .dataframe thead th {\n",
       "        text-align: left;\n",
       "    }\n",
       "\n",
       "    .dataframe tbody tr th {\n",
       "        vertical-align: top;\n",
       "    }\n",
       "</style>\n",
       "<table border=\"1\" class=\"dataframe\">\n",
       "  <thead>\n",
       "    <tr style=\"text-align: right;\">\n",
       "      <th></th>\n",
       "      <th>user_id</th>\n",
       "      <th>view_spu</th>\n",
       "      <th>buy_spu</th>\n",
       "      <th>buy_sn</th>\n",
       "      <th>view_sn</th>\n",
       "    </tr>\n",
       "  </thead>\n",
       "  <tbody>\n",
       "    <tr>\n",
       "      <th>0</th>\n",
       "      <td>4209887493</td>\n",
       "      <td>14150170026959126</td>\n",
       "      <td>453532580309307392</td>\n",
       "      <td>10004616</td>\n",
       "      <td>10010102</td>\n",
       "    </tr>\n",
       "    <tr>\n",
       "      <th>1</th>\n",
       "      <td>529805243</td>\n",
       "      <td>14150170026959126</td>\n",
       "      <td>103096245561765919</td>\n",
       "      <td>10010102</td>\n",
       "      <td>10010102</td>\n",
       "    </tr>\n",
       "    <tr>\n",
       "      <th>2</th>\n",
       "      <td>3748045464</td>\n",
       "      <td>14150170026959126</td>\n",
       "      <td>446777176556679168</td>\n",
       "      <td>10005711</td>\n",
       "      <td>10010102</td>\n",
       "    </tr>\n",
       "    <tr>\n",
       "      <th>3</th>\n",
       "      <td>4209887493</td>\n",
       "      <td>14150170026959126</td>\n",
       "      <td>438895881520357521</td>\n",
       "      <td>10004616</td>\n",
       "      <td>10010102</td>\n",
       "    </tr>\n",
       "    <tr>\n",
       "      <th>4</th>\n",
       "      <td>4209887493</td>\n",
       "      <td>14150170026959126</td>\n",
       "      <td>74104320184119307</td>\n",
       "      <td>10004616</td>\n",
       "      <td>10010102</td>\n",
       "    </tr>\n",
       "  </tbody>\n",
       "</table>\n",
       "</div>"
      ],
      "text/plain": [
       "      user_id           view_spu             buy_spu    buy_sn   view_sn\n",
       "0  4209887493  14150170026959126  453532580309307392  10004616  10010102\n",
       "1   529805243  14150170026959126  103096245561765919  10010102  10010102\n",
       "2  3748045464  14150170026959126  446777176556679168  10005711  10010102\n",
       "3  4209887493  14150170026959126  438895881520357521  10004616  10010102\n",
       "4  4209887493  14150170026959126   74104320184119307  10004616  10010102"
      ]
     },
     "execution_count": 201,
     "metadata": {},
     "output_type": "execute_result"
    }
   ],
   "source": [
    "# remove unneccesary columns \n",
    "user_profile2 = data2[['user_id','view_spu','buy_spu','buy_sn','view_sn']]\n",
    "user_profile2.head()"
   ]
  },
  {
   "cell_type": "code",
   "execution_count": 202,
   "metadata": {},
   "outputs": [
    {
     "data": {
      "text/plain": [
       "361"
      ]
     },
     "execution_count": 202,
     "metadata": {},
     "output_type": "execute_result"
    }
   ],
   "source": [
    "users_sample2 = user_profile2.user_id.unique()\n",
    "len(users_sample2)"
   ]
  },
  {
   "cell_type": "code",
   "execution_count": 203,
   "metadata": {},
   "outputs": [
    {
     "name": "stderr",
     "output_type": "stream",
     "text": [
      "/Users/chris/anaconda/envs/virtenv/lib/python2.7/site-packages/ipykernel_launcher.py:3: SettingWithCopyWarning: \n",
      "A value is trying to be set on a copy of a slice from a DataFrame.\n",
      "Try using .loc[row_indexer,col_indexer] = value instead\n",
      "\n",
      "See the caveats in the documentation: http://pandas.pydata.org/pandas-docs/stable/indexing.html#indexing-view-versus-copy\n",
      "  This is separate from the ipykernel package so we can avoid doing imports until\n",
      "/Users/chris/anaconda/envs/virtenv/lib/python2.7/site-packages/ipykernel_launcher.py:4: SettingWithCopyWarning: \n",
      "A value is trying to be set on a copy of a slice from a DataFrame.\n",
      "Try using .loc[row_indexer,col_indexer] = value instead\n",
      "\n",
      "See the caveats in the documentation: http://pandas.pydata.org/pandas-docs/stable/indexing.html#indexing-view-versus-copy\n",
      "  after removing the cwd from sys.path.\n"
     ]
    },
    {
     "data": {
      "text/html": [
       "<div>\n",
       "<style>\n",
       "    .dataframe thead tr:only-child th {\n",
       "        text-align: right;\n",
       "    }\n",
       "\n",
       "    .dataframe thead th {\n",
       "        text-align: left;\n",
       "    }\n",
       "\n",
       "    .dataframe tbody tr th {\n",
       "        vertical-align: top;\n",
       "    }\n",
       "</style>\n",
       "<table border=\"1\" class=\"dataframe\">\n",
       "  <thead>\n",
       "    <tr style=\"text-align: right;\">\n",
       "      <th></th>\n",
       "      <th>spu_id</th>\n",
       "      <th>features</th>\n",
       "    </tr>\n",
       "  </thead>\n",
       "  <tbody>\n",
       "    <tr>\n",
       "      <th>0</th>\n",
       "      <td>14150170026959126</td>\n",
       "      <td>[0.135, 1.078, 0.06, 0.241, 0.213, 0.22, 0.039...</td>\n",
       "    </tr>\n",
       "    <tr>\n",
       "      <th>1</th>\n",
       "      <td>14150170026959126</td>\n",
       "      <td>[0.135, 1.078, 0.06, 0.241, 0.213, 0.22, 0.039...</td>\n",
       "    </tr>\n",
       "    <tr>\n",
       "      <th>2</th>\n",
       "      <td>14150170026959126</td>\n",
       "      <td>[0.135, 1.078, 0.06, 0.241, 0.213, 0.22, 0.039...</td>\n",
       "    </tr>\n",
       "    <tr>\n",
       "      <th>3</th>\n",
       "      <td>14150170026959126</td>\n",
       "      <td>[0.135, 1.078, 0.06, 0.241, 0.213, 0.22, 0.039...</td>\n",
       "    </tr>\n",
       "    <tr>\n",
       "      <th>4</th>\n",
       "      <td>14150170026959126</td>\n",
       "      <td>[0.135, 1.078, 0.06, 0.241, 0.213, 0.22, 0.039...</td>\n",
       "    </tr>\n",
       "  </tbody>\n",
       "</table>\n",
       "</div>"
      ],
      "text/plain": [
       "              spu_id                                           features\n",
       "0  14150170026959126  [0.135, 1.078, 0.06, 0.241, 0.213, 0.22, 0.039...\n",
       "1  14150170026959126  [0.135, 1.078, 0.06, 0.241, 0.213, 0.22, 0.039...\n",
       "2  14150170026959126  [0.135, 1.078, 0.06, 0.241, 0.213, 0.22, 0.039...\n",
       "3  14150170026959126  [0.135, 1.078, 0.06, 0.241, 0.213, 0.22, 0.039...\n",
       "4  14150170026959126  [0.135, 1.078, 0.06, 0.241, 0.213, 0.22, 0.039..."
      ]
     },
     "execution_count": 203,
     "metadata": {},
     "output_type": "execute_result"
    }
   ],
   "source": [
    "# remove unneccesary columns \n",
    "spu_fea2 = data2[['view_spu','view_features']]\n",
    "spu_fea2['spu_id']=spu_fea2['view_spu']\n",
    "spu_fea2['features']=spu_fea2['view_features']\n",
    "spu_fea2 = spu_fea2[['spu_id','features']]\n",
    "spu_fea2.head()"
   ]
  },
  {
   "cell_type": "markdown",
   "metadata": {},
   "source": [
    "### Load PCA"
   ]
  },
  {
   "cell_type": "code",
   "execution_count": 204,
   "metadata": {
    "collapsed": true
   },
   "outputs": [],
   "source": [
    "pca = pickle.load(open('../data_nn_features/pca_all_items_sample1000.pkl','rb'))"
   ]
  },
  {
   "cell_type": "markdown",
   "metadata": {},
   "source": [
    "### Testing average feature Method"
   ]
  },
  {
   "cell_type": "code",
   "execution_count": 205,
   "metadata": {
    "collapsed": true
   },
   "outputs": [],
   "source": [
    "import src\n",
    "import src.recommendation_v2\n",
    "reload(src.recommendation_v2)\n",
    "from src.recommendation_v2 import *\n"
   ]
  },
  {
   "cell_type": "code",
   "execution_count": 88,
   "metadata": {},
   "outputs": [
    {
     "name": "stdout",
     "output_type": "stream",
     "text": [
      "AverageFeatureSim\n",
      "getting feature sequence\n",
      "scoring candidates\n",
      "user buy rank 14.0 out of 16.0 candidates\n"
     ]
    }
   ],
   "source": [
    "user = User(users_sample2[10],user_profile2,spu_fea2,extra_inputs={})\n",
    "user.create_candidates()\n",
    "user.rank_candidates(method='AverageFeatureSim')\n",
    "#user.rank_candidates(method='Last5ItemSim')\n",
    "print('user buy rank {0} out of {1} candidates').format(user.user_buy_rank,user.no_ranks)"
   ]
  },
  {
   "cell_type": "markdown",
   "metadata": {},
   "source": [
    "### Testing CF Method"
   ]
  },
  {
   "cell_type": "code",
   "execution_count": 92,
   "metadata": {},
   "outputs": [
    {
     "name": "stdout",
     "output_type": "stream",
     "text": [
      "Item-CF\n",
      "getting feature sequence\n",
      "scoring candidates\n",
      "user buy rank 5.5 out of 15.5 candidates\n"
     ]
    }
   ],
   "source": [
    "user = User(users_sample2[10],user_profile2,spu_fea2,extra_inputs={'item_item_similarity':item_sim_df})\n",
    "user.create_candidates()\n",
    "user.rank_candidates(method='Item-CF')\n",
    "print('user buy rank {0} out of {1} candidates').format(user.user_buy_rank,user.no_ranks)"
   ]
  },
  {
   "cell_type": "code",
   "execution_count": 93,
   "metadata": {},
   "outputs": [
    {
     "data": {
      "text/html": [
       "<div>\n",
       "<style>\n",
       "    .dataframe thead tr:only-child th {\n",
       "        text-align: right;\n",
       "    }\n",
       "\n",
       "    .dataframe thead th {\n",
       "        text-align: left;\n",
       "    }\n",
       "\n",
       "    .dataframe tbody tr th {\n",
       "        vertical-align: top;\n",
       "    }\n",
       "</style>\n",
       "<table border=\"1\" class=\"dataframe\">\n",
       "  <thead>\n",
       "    <tr style=\"text-align: right;\">\n",
       "      <th></th>\n",
       "      <th>spu</th>\n",
       "      <th>buy</th>\n",
       "      <th>score</th>\n",
       "      <th>rank</th>\n",
       "    </tr>\n",
       "  </thead>\n",
       "  <tbody>\n",
       "    <tr>\n",
       "      <th>0</th>\n",
       "      <td>461413925257830545</td>\n",
       "      <td>0.0</td>\n",
       "      <td>0.000000</td>\n",
       "      <td>2.5</td>\n",
       "    </tr>\n",
       "    <tr>\n",
       "      <th>1</th>\n",
       "      <td>458317700514025542</td>\n",
       "      <td>0.0</td>\n",
       "      <td>0.253886</td>\n",
       "      <td>15.5</td>\n",
       "    </tr>\n",
       "    <tr>\n",
       "      <th>2</th>\n",
       "      <td>441710676888072337</td>\n",
       "      <td>0.0</td>\n",
       "      <td>0.149994</td>\n",
       "      <td>12.0</td>\n",
       "    </tr>\n",
       "    <tr>\n",
       "      <th>3</th>\n",
       "      <td>103659233471074440</td>\n",
       "      <td>0.0</td>\n",
       "      <td>0.000000</td>\n",
       "      <td>2.5</td>\n",
       "    </tr>\n",
       "    <tr>\n",
       "      <th>4</th>\n",
       "      <td>318987586043674889</td>\n",
       "      <td>0.0</td>\n",
       "      <td>0.090215</td>\n",
       "      <td>9.0</td>\n",
       "    </tr>\n",
       "    <tr>\n",
       "      <th>5</th>\n",
       "      <td>312795136556040359</td>\n",
       "      <td>0.0</td>\n",
       "      <td>0.111476</td>\n",
       "      <td>10.5</td>\n",
       "    </tr>\n",
       "    <tr>\n",
       "      <th>6</th>\n",
       "      <td>451562301072957551</td>\n",
       "      <td>0.0</td>\n",
       "      <td>0.089404</td>\n",
       "      <td>8.0</td>\n",
       "    </tr>\n",
       "    <tr>\n",
       "      <th>7</th>\n",
       "      <td>447903087581487120</td>\n",
       "      <td>0.0</td>\n",
       "      <td>0.014415</td>\n",
       "      <td>5.5</td>\n",
       "    </tr>\n",
       "    <tr>\n",
       "      <th>8</th>\n",
       "      <td>456065900700315688</td>\n",
       "      <td>1.0</td>\n",
       "      <td>0.014415</td>\n",
       "      <td>5.5</td>\n",
       "    </tr>\n",
       "    <tr>\n",
       "      <th>9</th>\n",
       "      <td>449873451212718226</td>\n",
       "      <td>0.0</td>\n",
       "      <td>0.000000</td>\n",
       "      <td>2.5</td>\n",
       "    </tr>\n",
       "    <tr>\n",
       "      <th>10</th>\n",
       "      <td>306321212091695188</td>\n",
       "      <td>0.0</td>\n",
       "      <td>0.253886</td>\n",
       "      <td>15.5</td>\n",
       "    </tr>\n",
       "    <tr>\n",
       "      <th>11</th>\n",
       "      <td>450717876142837813</td>\n",
       "      <td>0.0</td>\n",
       "      <td>0.000000</td>\n",
       "      <td>2.5</td>\n",
       "    </tr>\n",
       "    <tr>\n",
       "      <th>12</th>\n",
       "      <td>463384250094825494</td>\n",
       "      <td>0.0</td>\n",
       "      <td>0.234981</td>\n",
       "      <td>14.0</td>\n",
       "    </tr>\n",
       "    <tr>\n",
       "      <th>13</th>\n",
       "      <td>88741047649325273</td>\n",
       "      <td>0.0</td>\n",
       "      <td>0.111476</td>\n",
       "      <td>10.5</td>\n",
       "    </tr>\n",
       "    <tr>\n",
       "      <th>14</th>\n",
       "      <td>439458877074387002</td>\n",
       "      <td>0.0</td>\n",
       "      <td>0.018959</td>\n",
       "      <td>7.0</td>\n",
       "    </tr>\n",
       "    <tr>\n",
       "      <th>15</th>\n",
       "      <td>13868716867313692</td>\n",
       "      <td>0.0</td>\n",
       "      <td>0.167381</td>\n",
       "      <td>13.0</td>\n",
       "    </tr>\n",
       "  </tbody>\n",
       "</table>\n",
       "</div>"
      ],
      "text/plain": [
       "                   spu  buy     score  rank\n",
       "0   461413925257830545  0.0  0.000000   2.5\n",
       "1   458317700514025542  0.0  0.253886  15.5\n",
       "2   441710676888072337  0.0  0.149994  12.0\n",
       "3   103659233471074440  0.0  0.000000   2.5\n",
       "4   318987586043674889  0.0  0.090215   9.0\n",
       "5   312795136556040359  0.0  0.111476  10.5\n",
       "6   451562301072957551  0.0  0.089404   8.0\n",
       "7   447903087581487120  0.0  0.014415   5.5\n",
       "8   456065900700315688  1.0  0.014415   5.5\n",
       "9   449873451212718226  0.0  0.000000   2.5\n",
       "10  306321212091695188  0.0  0.253886  15.5\n",
       "11  450717876142837813  0.0  0.000000   2.5\n",
       "12  463384250094825494  0.0  0.234981  14.0\n",
       "13   88741047649325273  0.0  0.111476  10.5\n",
       "14  439458877074387002  0.0  0.018959   7.0\n",
       "15   13868716867313692  0.0  0.167381  13.0"
      ]
     },
     "execution_count": 93,
     "metadata": {},
     "output_type": "execute_result"
    }
   ],
   "source": [
    "user.item_score_in_category"
   ]
  },
  {
   "cell_type": "markdown",
   "metadata": {},
   "source": [
    "### Comparison of Methods"
   ]
  },
  {
   "cell_type": "code",
   "execution_count": 207,
   "metadata": {},
   "outputs": [
    {
     "name": "stdout",
     "output_type": "stream",
     "text": [
      "[ 121339277 4042991439 1686992794  960980006  518425886 3445938656\n",
      " 1586586230 1861686298 3321297641 3829759000 2035236492 2221617006\n",
      " 3033602072 1833161608 3313468081  981771354 2263046174 1704798459\n",
      "  643972730 3029335856]\n"
     ]
    }
   ],
   "source": [
    "users_sample2_smaller = np.random.choice(users_sample2,size=20)\n",
    "print(users_sample2_smaller)"
   ]
  },
  {
   "cell_type": "code",
   "execution_count": 208,
   "metadata": {
    "collapsed": true
   },
   "outputs": [],
   "source": [
    "#user = User(user_id,user_profile2,spu_fea2,extra_inputs={'pca':pca,'item_item_similarity':item_sim_df})"
   ]
  },
  {
   "cell_type": "code",
   "execution_count": 209,
   "metadata": {
    "scrolled": true
   },
   "outputs": [
    {
     "name": "stdout",
     "output_type": "stream",
     "text": [
      "0\n",
      "1\n",
      "2\n",
      "3\n",
      "4\n",
      "5\n",
      "6\n",
      "7\n",
      "8\n",
      "9\n",
      "10\n",
      "11\n",
      "12\n",
      "13\n",
      "14\n",
      "15\n",
      "16\n",
      "17\n",
      "18\n",
      "19\n"
     ]
    }
   ],
   "source": [
    "user_buy_ranks = np.empty(len(users_sample2_smaller))\n",
    "no_ranks = np.empty(len(users_sample2_smaller))\n",
    "\n",
    "models = ['Random','Item-CF','LastItemSim','Last5ItemSim','AverageFeatureSim','AverageFeatureSim_AfterChangePoint','AverageFeatureSim_withinSegments']\n",
    "\n",
    "extra_inputs = {}\n",
    "extra_inputs['pca']=pca\n",
    "extra_inputs['item_item_similarity'] = item_sim_df\n",
    "extra_inputs['dr_params']={'method':'PCA','ndims':100}\n",
    "extra_inputs['cp_params']={'method':'Offline'}\n",
    "\n",
    "for ui,user_id in enumerate(users_sample2_smaller):\n",
    "    print(ui)\n",
    "    try:\n",
    "        for model in models:\n",
    "\n",
    "            user = User(user_id,user_profile2,spu_fea2,extra_inputs=extra_inputs)\n",
    "            user.create_candidates()\n",
    "            user.rank_candidates(method=model)\n",
    "\n",
    "            row = pd.Series(data=np.array([user_id,model,user.user_buy_rank,user.no_ranks]),index = ['user_id','model','user_buy_rank','no_ranks'])\n",
    "            if ui==0:\n",
    "                df = row.to_frame().T\n",
    "            else:\n",
    "                df = pd.concat((df,row.to_frame().T))\n",
    "    except:\n",
    "        print('failed')\n",
    "\n",
    "df['user_buy_rank']=df['user_buy_rank'].astype('float')\n",
    "df['no_ranks']=df['no_ranks'].astype('float')\n",
    "df['average_buy_rank']=df['user_buy_rank']/df['no_ranks']"
   ]
  },
  {
   "cell_type": "code",
   "execution_count": 210,
   "metadata": {},
   "outputs": [
    {
     "data": {
      "image/png": "[encoded data removed]",
      "text/plain": [
       "<matplotlib.figure.Figure at 0x273cb1810>"
      ]
     },
     "metadata": {},
     "output_type": "display_data"
    }
   ],
   "source": [
    "plt.figure(figsize=(8,4))\n",
    "ax = sns.stripplot(x=\"model\", y=\"average_buy_rank\", data=df, jitter=True)\n",
    "sns.barplot(x=\"model\", y=\"average_buy_rank\", data=df,alpha=0.5)\n",
    "sns.despine()\n",
    "\n",
    "plt.title('Recommendor Comparison')\n",
    "plt.ylabel('Average (Buy Rank / # in Buy Category)')\n",
    "plt.axhline(y=0.5,linestyle='--')\n",
    "plt.tight_layout()\n",
    "#savefile = '../figures/recommender_comparison_sample_1000_subsample50_v1.png'\n",
    "#plt.savefig(savefile,dpi=300)"
   ]
  },
  {
   "cell_type": "code",
   "execution_count": 99,
   "metadata": {},
   "outputs": [
    {
     "data": {
      "text/html": [
       "<div>\n",
       "<style>\n",
       "    .dataframe thead tr:only-child th {\n",
       "        text-align: right;\n",
       "    }\n",
       "\n",
       "    .dataframe thead th {\n",
       "        text-align: left;\n",
       "    }\n",
       "\n",
       "    .dataframe tbody tr th {\n",
       "        vertical-align: top;\n",
       "    }\n",
       "</style>\n",
       "<table border=\"1\" class=\"dataframe\">\n",
       "  <thead>\n",
       "    <tr>\n",
       "      <th></th>\n",
       "      <th>user_buy_rank</th>\n",
       "      <th>no_ranks</th>\n",
       "      <th>average_buy_rank</th>\n",
       "    </tr>\n",
       "    <tr>\n",
       "      <th></th>\n",
       "      <th>mean</th>\n",
       "      <th>mean</th>\n",
       "      <th>mean</th>\n",
       "    </tr>\n",
       "    <tr>\n",
       "      <th>model</th>\n",
       "      <th></th>\n",
       "      <th></th>\n",
       "      <th></th>\n",
       "    </tr>\n",
       "  </thead>\n",
       "  <tbody>\n",
       "    <tr>\n",
       "      <th>Item-CF</th>\n",
       "      <td>279.425</td>\n",
       "      <td>357.050000</td>\n",
       "      <td>0.669222</td>\n",
       "    </tr>\n",
       "    <tr>\n",
       "      <th>Random</th>\n",
       "      <td>97.000</td>\n",
       "      <td>361.315789</td>\n",
       "      <td>0.406355</td>\n",
       "    </tr>\n",
       "  </tbody>\n",
       "</table>\n",
       "</div>"
      ],
      "text/plain": [
       "        user_buy_rank    no_ranks average_buy_rank\n",
       "                 mean        mean             mean\n",
       "model                                             \n",
       "Item-CF       279.425  357.050000         0.669222\n",
       "Random         97.000  361.315789         0.406355"
      ]
     },
     "execution_count": 99,
     "metadata": {},
     "output_type": "execute_result"
    }
   ],
   "source": [
    "df.groupby('model').agg(['mean'])"
   ]
  },
  {
   "cell_type": "markdown",
   "metadata": {},
   "source": [
    "# Save"
   ]
  },
  {
   "cell_type": "code",
   "execution_count": 39,
   "metadata": {},
   "outputs": [
    {
     "name": "stderr",
     "output_type": "stream",
     "text": [
      "[NbConvertApp] Converting notebook Recommendation_Compare_Methods.ipynb to html\n",
      "[NbConvertApp] Writing 448117 bytes to Recommendation_Compare_Methods.html\n"
     ]
    }
   ],
   "source": [
    "%%bash \n",
    "#jupyter nbconvert --to slides Recommendation_Compare_Methods.ipynb && mv Recommendation_Compare_Methods.slides.html ../notebook_slides/Recommendation_Compare_Methods_v2.slides.html\n",
    "jupyter nbconvert --to html Recommendation_Compare_Methods.ipynb && mv Recommendation_Compare_Methods.html ../notebook_htmls/Recommendation_Compare_Methods_v2.html\n",
    "cp Recommendation_Compare_Methods.ipynb ../notebook_versions/Recommendation_Compare_Methods_v2.ipynb"
   ]
  }
 ],
 "metadata": {
  "celltoolbar": "Slideshow",
  "hide_input": false,
  "kernelspec": {
   "display_name": "Python 2",
   "language": "python",
   "name": "python2"
  },
  "language_info": {
   "codemirror_mode": {
    "name": "ipython",
    "version": 2
   },
   "file_extension": ".py",
   "mimetype": "text/x-python",
   "name": "python",
   "nbconvert_exporter": "python",
   "pygments_lexer": "ipython2",
   "version": "2.7.13"
  },
  "toc": {
   "colors": {
    "hover_highlight": "#DAA520",
    "navigate_num": "#000000",
    "navigate_text": "#333333",
    "running_highlight": "#FF0000",
    "selected_highlight": "#FFD700",
    "sidebar_border": "#EEEEEE",
    "wrapper_background": "#FFFFFF"
   },
   "moveMenuLeft": true,
   "nav_menu": {
    "height": "65px",
    "width": "253px"
   },
   "navigate_menu": true,
   "number_sections": false,
   "sideBar": true,
   "threshold": 4,
   "toc_cell": false,
   "toc_section_display": "block",
   "toc_window_display": true,
   "widenNotebook": false
  }
 },
 "nbformat": 4,
 "nbformat_minor": 2
}
